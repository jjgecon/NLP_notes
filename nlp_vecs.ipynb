{
 "cells": [
  {
   "cell_type": "code",
   "execution_count": 1,
   "metadata": {},
   "outputs": [],
   "source": [
    "from tqdm.auto import tqdm\n",
    "import os\n",
    "import pandas as pd\n",
    "pd.options.mode.chained_assignment = None  # default='warn' This disables warning of \"copying a slice of a DataFrame\"\n",
    "tqdm.pandas() # activate progress_apply\n",
    "\n",
    "import numpy as np\n",
    "from copy import copy\n",
    "\n",
    "from collections import Counter"
   ]
  },
  {
   "cell_type": "markdown",
   "metadata": {},
   "source": [
    "# Data\n",
    "\n",
    "I have a dataset of the responses of psycologists to comments from patients from [Kaggle](https://www.kaggle.com/datasets/thedevastator/nlp-mental-health-conversations?resource=download)"
   ]
  },
  {
   "cell_type": "code",
   "execution_count": 2,
   "metadata": {},
   "outputs": [
    {
     "data": {
      "text/html": [
       "<div>\n",
       "<style scoped>\n",
       "    .dataframe tbody tr th:only-of-type {\n",
       "        vertical-align: middle;\n",
       "    }\n",
       "\n",
       "    .dataframe tbody tr th {\n",
       "        vertical-align: top;\n",
       "    }\n",
       "\n",
       "    .dataframe thead th {\n",
       "        text-align: right;\n",
       "    }\n",
       "</style>\n",
       "<table border=\"1\" class=\"dataframe\">\n",
       "  <thead>\n",
       "    <tr style=\"text-align: right;\">\n",
       "      <th></th>\n",
       "      <th>patient_comment</th>\n",
       "      <th>psyc_response</th>\n",
       "    </tr>\n",
       "  </thead>\n",
       "  <tbody>\n",
       "    <tr>\n",
       "      <th>3296</th>\n",
       "      <td>My boyfriend is in Ireland for 11 days, and I ...</td>\n",
       "      <td>It sounds like you and your boyfriend are very...</td>\n",
       "    </tr>\n",
       "    <tr>\n",
       "      <th>2011</th>\n",
       "      <td>I have so many issues to address. I have a his...</td>\n",
       "      <td>I think this is a very common question that pe...</td>\n",
       "    </tr>\n",
       "    <tr>\n",
       "      <th>1683</th>\n",
       "      <td>After 40 years of being straight, how could I ...</td>\n",
       "      <td>Sexuality is normally formed during adolescenc...</td>\n",
       "    </tr>\n",
       "    <tr>\n",
       "      <th>1560</th>\n",
       "      <td>I feel like I took our relationship for grante...</td>\n",
       "      <td>A key factor in a relationship is trust.I'd st...</td>\n",
       "    </tr>\n",
       "    <tr>\n",
       "      <th>1267</th>\n",
       "      <td>I crave attention, companionship, and sex. She...</td>\n",
       "      <td>Hi Hampton,Although I'd bet your wife also wan...</td>\n",
       "    </tr>\n",
       "    <tr>\n",
       "      <th>2895</th>\n",
       "      <td>He said he would try and he never did. It's be...</td>\n",
       "      <td>If your husband is changing his mind about whe...</td>\n",
       "    </tr>\n",
       "    <tr>\n",
       "      <th>2697</th>\n",
       "      <td>I always feel the need to impress people, whet...</td>\n",
       "      <td>It is normal to seek other’s attention and not...</td>\n",
       "    </tr>\n",
       "    <tr>\n",
       "      <th>1042</th>\n",
       "      <td>We're in an eight year relationship. My boyfri...</td>\n",
       "      <td>First, let me extend my compassion to both of ...</td>\n",
       "    </tr>\n",
       "    <tr>\n",
       "      <th>3312</th>\n",
       "      <td>I've gone to a couple therapy sessions so far ...</td>\n",
       "      <td>Yes, it is completely normal to feel anxious a...</td>\n",
       "    </tr>\n",
       "    <tr>\n",
       "      <th>2788</th>\n",
       "      <td>He is an adolescent. He has peed his pant mult...</td>\n",
       "      <td>Sounds as though your son is \"pissed off\" abou...</td>\n",
       "    </tr>\n",
       "    <tr>\n",
       "      <th>606</th>\n",
       "      <td>I'm being verbally abused on a daily basis by ...</td>\n",
       "      <td>I am so sorry this is happening to you.  One t...</td>\n",
       "    </tr>\n",
       "    <tr>\n",
       "      <th>1443</th>\n",
       "      <td>I am always arguing with my father. He gets st...</td>\n",
       "      <td>Thanks for the question. Regardless of whether...</td>\n",
       "    </tr>\n",
       "    <tr>\n",
       "      <th>2576</th>\n",
       "      <td>As a child, my parents injured my brother, so ...</td>\n",
       "      <td>Sorry to hear of having witnessed violence wit...</td>\n",
       "    </tr>\n",
       "    <tr>\n",
       "      <th>1078</th>\n",
       "      <td>I've pretty much been on my own since day one,...</td>\n",
       "      <td>One way to concentrate is that if your mind st...</td>\n",
       "    </tr>\n",
       "    <tr>\n",
       "      <th>1948</th>\n",
       "      <td>Is it normal for people to cry during therapy,...</td>\n",
       "      <td>Yes, it's totally normal! Crying is a part of ...</td>\n",
       "    </tr>\n",
       "    <tr>\n",
       "      <th>73</th>\n",
       "      <td>I’m facing severe depression and anxiety and I...</td>\n",
       "      <td>Working with a great therapist who can help yo...</td>\n",
       "    </tr>\n",
       "    <tr>\n",
       "      <th>2687</th>\n",
       "      <td>It happens especially at me and my sister, and...</td>\n",
       "      <td>You are very wise for a young person. You have...</td>\n",
       "    </tr>\n",
       "    <tr>\n",
       "      <th>1606</th>\n",
       "      <td>I am currently suffering from erectile dysfunc...</td>\n",
       "      <td>Hi, First and foremost, I want to acknowledge ...</td>\n",
       "    </tr>\n",
       "    <tr>\n",
       "      <th>266</th>\n",
       "      <td>I am not sure if I am depressed. I don't know ...</td>\n",
       "      <td>I am so sorry you are struggling!  I do think ...</td>\n",
       "    </tr>\n",
       "    <tr>\n",
       "      <th>1501</th>\n",
       "      <td>I've been bulimic for about 6 years now. I'm i...</td>\n",
       "      <td>Eating disorders usually result from a sense o...</td>\n",
       "    </tr>\n",
       "  </tbody>\n",
       "</table>\n",
       "</div>"
      ],
      "text/plain": [
       "                                        patient_comment  \\\n",
       "3296  My boyfriend is in Ireland for 11 days, and I ...   \n",
       "2011  I have so many issues to address. I have a his...   \n",
       "1683  After 40 years of being straight, how could I ...   \n",
       "1560  I feel like I took our relationship for grante...   \n",
       "1267  I crave attention, companionship, and sex. She...   \n",
       "2895  He said he would try and he never did. It's be...   \n",
       "2697  I always feel the need to impress people, whet...   \n",
       "1042  We're in an eight year relationship. My boyfri...   \n",
       "3312  I've gone to a couple therapy sessions so far ...   \n",
       "2788  He is an adolescent. He has peed his pant mult...   \n",
       "606   I'm being verbally abused on a daily basis by ...   \n",
       "1443  I am always arguing with my father. He gets st...   \n",
       "2576  As a child, my parents injured my brother, so ...   \n",
       "1078  I've pretty much been on my own since day one,...   \n",
       "1948  Is it normal for people to cry during therapy,...   \n",
       "73    I’m facing severe depression and anxiety and I...   \n",
       "2687  It happens especially at me and my sister, and...   \n",
       "1606  I am currently suffering from erectile dysfunc...   \n",
       "266   I am not sure if I am depressed. I don't know ...   \n",
       "1501  I've been bulimic for about 6 years now. I'm i...   \n",
       "\n",
       "                                          psyc_response  \n",
       "3296  It sounds like you and your boyfriend are very...  \n",
       "2011  I think this is a very common question that pe...  \n",
       "1683  Sexuality is normally formed during adolescenc...  \n",
       "1560  A key factor in a relationship is trust.I'd st...  \n",
       "1267  Hi Hampton,Although I'd bet your wife also wan...  \n",
       "2895  If your husband is changing his mind about whe...  \n",
       "2697  It is normal to seek other’s attention and not...  \n",
       "1042  First, let me extend my compassion to both of ...  \n",
       "3312  Yes, it is completely normal to feel anxious a...  \n",
       "2788  Sounds as though your son is \"pissed off\" abou...  \n",
       "606   I am so sorry this is happening to you.  One t...  \n",
       "1443  Thanks for the question. Regardless of whether...  \n",
       "2576  Sorry to hear of having witnessed violence wit...  \n",
       "1078  One way to concentrate is that if your mind st...  \n",
       "1948  Yes, it's totally normal! Crying is a part of ...  \n",
       "73    Working with a great therapist who can help yo...  \n",
       "2687  You are very wise for a young person. You have...  \n",
       "1606  Hi, First and foremost, I want to acknowledge ...  \n",
       "266   I am so sorry you are struggling!  I do think ...  \n",
       "1501  Eating disorders usually result from a sense o...  "
      ]
     },
     "execution_count": 2,
     "metadata": {},
     "output_type": "execute_result"
    }
   ],
   "source": [
    "mental_health = pd.read_csv(\"data/mental_health.csv\")\n",
    "mental_health.rename(columns={\"Context\": \"patient_comment\", \"Response\": \"psyc_response\"}, inplace=True)\n",
    "mental_health.dropna(inplace=True)\n",
    "\n",
    "# take a sample of 20 responses\n",
    "mental_health = mental_health.sample(20, random_state=1337)\n",
    "mental_health"
   ]
  },
  {
   "cell_type": "markdown",
   "metadata": {},
   "source": [
    "# Working with text using `spacy`\n",
    "\n",
    "[`spacy`](https://spacy.io/) is a text analysis package in python designed to be flexible and includes a lot of tools."
   ]
  },
  {
   "cell_type": "code",
   "execution_count": 3,
   "metadata": {},
   "outputs": [],
   "source": [
    "import spacy\n",
    "from spacy.language import Language"
   ]
  },
  {
   "cell_type": "code",
   "execution_count": 4,
   "metadata": {},
   "outputs": [
    {
     "name": "stdout",
     "output_type": "stream",
     "text": [
      "en_core_web_sm is available\n",
      "en_core_web_trf is available\n"
     ]
    }
   ],
   "source": [
    "# check and download the needed models\n",
    "for model in [\"en_core_web_sm\",      # smallest processing pipeline\n",
    "              \"en_core_web_trf\"]:    # transformer-based pipeline\n",
    "    try:\n",
    "        spacy.load(model)\n",
    "        print(f\"{model} is available\")\n",
    "    except:\n",
    "        spacy.cli.download(model)"
   ]
  },
  {
   "cell_type": "markdown",
   "metadata": {},
   "source": [
    "**MIGHT NEED TO RESTARD THE KERNEL TO USE THE MODELS**"
   ]
  },
  {
   "cell_type": "markdown",
   "metadata": {},
   "source": [
    "To use we initialize the processor of data with"
   ]
  },
  {
   "cell_type": "code",
   "execution_count": 5,
   "metadata": {},
   "outputs": [],
   "source": [
    "nlp_en = spacy.load(\"en_core_web_sm\")"
   ]
  },
  {
   "cell_type": "code",
   "execution_count": 6,
   "metadata": {},
   "outputs": [
    {
     "data": {
      "text/plain": [
       "'It sounds like you and your boyfriend are very close. \\xa0Do you typically spend most of your time together? \\xa0If so, it may be important to reflect on how you feel when you are apart. \\xa0If any separation is difficult, you may need to examine why. \\xa0Think about what it is that you miss and what you are anxious, upset or worried about. \\xa0If you examine the causes of your distress you likely will experience some relief. \\xa0\\xa0It is important to learn how to be happy when you are alone, it will only improve the way you feel when you are with your boyfriend. \\xa0'"
      ]
     },
     "execution_count": 6,
     "metadata": {},
     "output_type": "execute_result"
    }
   ],
   "source": [
    "psyc_response = mental_health['psyc_response'].iloc[0]\n",
    "psyc_response"
   ]
  },
  {
   "cell_type": "markdown",
   "metadata": {},
   "source": [
    "Let's processit with spacy and see what can we get out of it"
   ]
  },
  {
   "cell_type": "code",
   "execution_count": 7,
   "metadata": {},
   "outputs": [
    {
     "data": {
      "text/plain": [
       "It sounds like you and your boyfriend are very close.  Do you typically spend most of your time together?  If so, it may be important to reflect on how you feel when you are apart.  If any separation is difficult, you may need to examine why.  Think about what it is that you miss and what you are anxious, upset or worried about.  If you examine the causes of your distress you likely will experience some relief.   It is important to learn how to be happy when you are alone, it will only improve the way you feel when you are with your boyfriend.  "
      ]
     },
     "execution_count": 7,
     "metadata": {},
     "output_type": "execute_result"
    }
   ],
   "source": [
    "spacy_obj = nlp_en(psyc_response)\n",
    "spacy_obj"
   ]
  },
  {
   "cell_type": "markdown",
   "metadata": {},
   "source": [
    "The output was a string. However there a couple of things we can do."
   ]
  },
  {
   "cell_type": "code",
   "execution_count": 8,
   "metadata": {},
   "outputs": [
    {
     "name": "stdout",
     "output_type": "stream",
     "text": [
      "word: It - type: PRON - lemma: it\n",
      "word: sounds - type: VERB - lemma: sound\n",
      "word: like - type: SCONJ - lemma: like\n",
      "word: you - type: PRON - lemma: you\n",
      "word: and - type: CCONJ - lemma: and\n",
      "word: your - type: PRON - lemma: your\n",
      "word: boyfriend - type: NOUN - lemma: boyfriend\n",
      "word: are - type: AUX - lemma: be\n",
      "word: very - type: ADV - lemma: very\n",
      "word: close - type: ADJ - lemma: close\n"
     ]
    }
   ],
   "source": [
    "# get the word, what type of word it is, and the lemma of the word for the fiorst 10 words\n",
    "for obj in spacy_obj[:10]:\n",
    "    print(f\"word: {obj.text}\",\n",
    "          \"-\", \n",
    "          f\"type: {obj.pos_}\",\n",
    "          \"-\",\n",
    "          f\"lemma: {obj.lemma_}\")"
   ]
  },
  {
   "cell_type": "markdown",
   "metadata": {},
   "source": [
    "You might want to clean the text and only get the most important words and avoid pronouns (PRON) and keep only the lemmas.\n",
    "\n",
    "So you add a component to the model"
   ]
  },
  {
   "cell_type": "code",
   "execution_count": 9,
   "metadata": {},
   "outputs": [],
   "source": [
    "# Define a custom spaCy pipeline component to clean the text\n",
    "@Language.component(\"cleaning_component\")\n",
    "def remove_stop_lemma_POS(doc):\n",
    "    # Lemmatize, remove stopwords, filter out specific POS tags, and remove tokens containing a backslash\n",
    "    tokens = [token.lemma_ for token in doc if not token.is_stop and token.pos_ not in ['PROPN', 'PUNCT', 'INTJ', 'NUM']]\n",
    "    # Filter out tokens containing '\\n\\n', tokens with '-', and tokens starting with '\\'\n",
    "    tokens = [token for token in tokens if '\\n\\n' not in token and '-' not in token and not token.startswith('\\\\')]\n",
    "    # Remove any empty strings and special characters like '\\xa0'\n",
    "    tokens = [token for token in tokens if token and not (token.startswith('\\xa0') or token.startswith('\\n') or token.startswith(' '))]\n",
    "    doc.user_data[\"cleaned_tokens\"] = tokens\n",
    "    return doc"
   ]
  },
  {
   "cell_type": "code",
   "execution_count": 10,
   "metadata": {},
   "outputs": [],
   "source": [
    "# add it to the pipe and you will see only the cleaned lemmas\n",
    "nlp_en.add_pipe('cleaning_component', last=True);"
   ]
  },
  {
   "cell_type": "code",
   "execution_count": 11,
   "metadata": {},
   "outputs": [
    {
     "data": {
      "text/plain": [
       "['sound',\n",
       " 'like',\n",
       " 'boyfriend',\n",
       " 'close',\n",
       " 'typically',\n",
       " 'spend',\n",
       " 'time',\n",
       " 'important',\n",
       " 'reflect',\n",
       " 'feel']"
      ]
     },
     "execution_count": 11,
     "metadata": {},
     "output_type": "execute_result"
    }
   ],
   "source": [
    "spacy_obj = nlp_en(psyc_response)\n",
    "\n",
    "clean_lemmas = spacy_obj.user_data[\"cleaned_tokens\"]\n",
    "clean_lemmas_str = \" \".join(clean_lemmas)\n",
    "clean_lemmas[:10]"
   ]
  },
  {
   "cell_type": "code",
   "execution_count": 12,
   "metadata": {},
   "outputs": [
    {
     "data": {
      "text/plain": [
       "[('boyfriend', 2),\n",
       " ('important', 2),\n",
       " ('feel', 2),\n",
       " ('examine', 2),\n",
       " ('sound', 1),\n",
       " ('like', 1),\n",
       " ('close', 1),\n",
       " ('typically', 1),\n",
       " ('spend', 1),\n",
       " ('time', 1)]"
      ]
     },
     "execution_count": 12,
     "metadata": {},
     "output_type": "execute_result"
    }
   ],
   "source": [
    "# Count the frequency of each word in clean_lemmas\n",
    "word_counts = Counter(clean_lemmas)\n",
    "\n",
    "# Display the 10 most common words and their frequencies\n",
    "word_counts.most_common(10)"
   ]
  },
  {
   "cell_type": "markdown",
   "metadata": {},
   "source": [
    "For more please check the [How to get started](https://spacy.io/usage/spacy-101) section on the website.\n",
    "\n",
    "For the next part we will use the cleaned lemmas of the patient and psycologist responses.\n",
    "\n",
    "> We will store those lemmas as a string so we can then apply the `spacy` pipeline again for processing"
   ]
  },
  {
   "cell_type": "code",
   "execution_count": 13,
   "metadata": {},
   "outputs": [
    {
     "data": {
      "application/vnd.jupyter.widget-view+json": {
       "model_id": "4fcd8b3fc85146b799496b8def54da8b",
       "version_major": 2,
       "version_minor": 0
      },
      "text/plain": [
       "  0%|          | 0/20 [00:00<?, ?it/s]"
      ]
     },
     "metadata": {},
     "output_type": "display_data"
    },
    {
     "data": {
      "application/vnd.jupyter.widget-view+json": {
       "model_id": "bc922fbfe8c44f18b16a399f90e37752",
       "version_major": 2,
       "version_minor": 0
      },
      "text/plain": [
       "  0%|          | 0/20 [00:00<?, ?it/s]"
      ]
     },
     "metadata": {},
     "output_type": "display_data"
    }
   ],
   "source": [
    "mental_health['patient_comment_lemmas'] = mental_health['patient_comment'].progress_apply(lambda x: \" \".join(nlp_en(x).user_data[\"cleaned_tokens\"]))\n",
    "mental_health['psyc_response_lemmas'] = mental_health['psyc_response'].progress_apply(lambda x: \" \".join(nlp_en(x).user_data[\"cleaned_tokens\"]))"
   ]
  },
  {
   "cell_type": "markdown",
   "metadata": {},
   "source": [
    "# Vector Embeddings\n",
    "\n",
    "Vector embeddings are a type of representation for words in a continuous vector space, where each word is mapped to a unique vector of real numbers. This technique helps capture the semantic meanings of words based on their contexts in which they appear. Essentially, words that have similar meanings or are used in similar ways are positioned closer together in this multidimensional space.\n",
    "\n",
    "<div align=\"center\">\n",
    "        <img src=\"media/vector embedding.png\" alt=\"Default\" width=\"60%\">\n",
    "</div>\n",
    "\n",
    "## [GloVe Embeddings](https://nlp.stanford.edu/projects/glove/)\n",
    "\n",
    "This is a classic dataset used to train machine learning models to get texrt as input and encode their meaning into a 96d space. Spacy already has the embeddings as a component\n",
    "\n",
    "> Bigger pipelines have more dimensions"
   ]
  },
  {
   "cell_type": "code",
   "execution_count": 14,
   "metadata": {},
   "outputs": [
    {
     "data": {
      "text/plain": [
       "sound like boyfriend close typically spend time important reflect feel apart separation difficult need examine think miss anxious upset worry examine cause distress likely experience relief important learn happy improve way feel boyfriend"
      ]
     },
     "execution_count": 14,
     "metadata": {},
     "output_type": "execute_result"
    }
   ],
   "source": [
    "clean_spacy_doc = nlp_en(clean_lemmas_str)\n",
    "clean_spacy_doc"
   ]
  },
  {
   "cell_type": "code",
   "execution_count": 15,
   "metadata": {},
   "outputs": [
    {
     "name": "stdout",
     "output_type": "stream",
     "text": [
      " token 'sound' with vetor of (96,) dimensions\n"
     ]
    },
    {
     "data": {
      "text/plain": [
       "array([-7.24104881e-01, -6.47366285e-01, -2.07968086e-01,  9.73526984e-02,\n",
       "       -5.28293788e-01, -5.74386299e-01, -9.76775587e-03, -9.58150253e-02,\n",
       "       -2.16986284e-01, -6.89620256e-01,  5.23343444e-01, -1.21182430e+00,\n",
       "       -2.60336876e-01,  3.08931649e-01, -1.07855260e-01,  4.77147877e-01,\n",
       "       -1.79722905e-01, -7.08157003e-01,  5.52588761e-01,  1.59358203e-01,\n",
       "       -7.98364520e-01,  9.66362596e-01, -5.62018812e-01,  2.99948215e-01,\n",
       "        3.87927830e-01,  2.60159314e-01,  5.55051208e-01,  8.39886963e-02,\n",
       "       -9.17891145e-01,  5.30563712e-01, -4.40687716e-01,  4.10509050e-01,\n",
       "        2.39030480e-01, -1.24362081e-01,  4.52480435e-01, -5.01232386e-01,\n",
       "       -6.46968365e-01, -1.33534208e-01,  3.79635453e-01,  7.31610537e-01,\n",
       "       -1.20776248e+00,  2.47098744e-01, -5.52791893e-01, -4.26199138e-02,\n",
       "        4.56757993e-01,  1.26340225e-01,  8.67683053e-01,  4.69279975e-01,\n",
       "       -2.86580205e-01, -6.43930018e-01, -1.59560159e-01,  2.52509713e-01,\n",
       "       -7.17351079e-01,  4.81987894e-02,  1.03067711e-01,  7.68597722e-01,\n",
       "       -1.41117275e-02, -3.35037351e-01,  5.08331418e-01, -1.89216554e-01,\n",
       "       -1.02431655e+00, -4.73479718e-01, -1.88182145e-01, -2.90841579e-01,\n",
       "       -7.34782577e-01,  5.80675483e-01, -2.37765431e-01, -4.12673116e-01,\n",
       "        1.53866982e+00,  1.10119581e-04, -8.43274474e-01,  1.11277211e+00,\n",
       "        1.41269135e+00, -1.15756941e+00,  8.92405391e-01, -4.40146863e-01,\n",
       "       -8.44927669e-01, -1.59830809e-01, -4.28880900e-02, -3.79201680e-01,\n",
       "        2.29698390e-01, -2.33276278e-01, -7.96181858e-02, -5.96056998e-01,\n",
       "        3.15470994e-01,  7.56719053e-01,  3.62026274e-01,  5.25334239e-01,\n",
       "       -5.53273559e-01, -7.75272310e-01, -7.63656497e-01,  7.22161829e-02,\n",
       "        9.82336581e-01,  1.44658434e+00,  4.66634154e-01, -2.11774349e-01],\n",
       "      dtype=float32)"
      ]
     },
     "execution_count": 15,
     "metadata": {},
     "output_type": "execute_result"
    }
   ],
   "source": [
    "# we can extract the vector for the first token\n",
    "vec_token1 = clean_spacy_doc[0].vector\n",
    "print(f\" token '{clean_spacy_doc[0].text}' with vetor of {vec_token1.shape} dimensions\")\n",
    "vec_token1"
   ]
  },
  {
   "cell_type": "code",
   "execution_count": 16,
   "metadata": {},
   "outputs": [
    {
     "data": {
      "text/plain": [
       "sound like boyfriend close typically spend time important reflect feel apart separation difficult need examine think miss anxious upset worry examine cause distress likely experience relief important learn happy improve way feel boyfriend"
      ]
     },
     "execution_count": 16,
     "metadata": {},
     "output_type": "execute_result"
    }
   ],
   "source": [
    "clean_spacy_doc"
   ]
  },
  {
   "cell_type": "code",
   "execution_count": 17,
   "metadata": {},
   "outputs": [
    {
     "name": "stdout",
     "output_type": "stream",
     "text": [
      " token 'happy' with vetor of (96,) dimensions\n"
     ]
    }
   ],
   "source": [
    "vec_token2 = clean_spacy_doc[28].vector\n",
    "print(f\" token '{clean_spacy_doc[28].text}' with vetor of {vec_token1.shape} dimensions\")"
   ]
  },
  {
   "cell_type": "markdown",
   "metadata": {},
   "source": [
    "Let's take 3 lemmas `happy`, `anxious`, and `boyfriend`."
   ]
  },
  {
   "cell_type": "code",
   "execution_count": 18,
   "metadata": {},
   "outputs": [],
   "source": [
    "happy_doc = nlp_en(\"happy\")\n",
    "boyfriend_doc = nlp_en(\"boyfriend\")\n",
    "anxious_doc = nlp_en(\"anxious\")"
   ]
  },
  {
   "cell_type": "markdown",
   "metadata": {},
   "source": [
    "With these vectors we can ask how related are these tokens to each other?\n",
    "\n",
    "We can use the similarity between two vectors. The standard way in the literature is to use [cosine distances](https://en.wikipedia.org/wiki/Cosine_similarity). Goes from -1 to 1, where 1 is a vector in a similar direction, 0 a perpendicular direction and -1 opposite directions."
   ]
  },
  {
   "cell_type": "code",
   "execution_count": 19,
   "metadata": {},
   "outputs": [],
   "source": [
    "def cosine_similarity(vec1, vec2):\n",
    "    \"\"\"Calculate the cosine similarity between two vectors.\"\"\"\n",
    "    dot_product = np.dot(vec1, vec2)\n",
    "    norm_a = np.linalg.norm(vec1)\n",
    "    norm_b = np.linalg.norm(vec2)\n",
    "    return dot_product / (norm_a * norm_b)"
   ]
  },
  {
   "cell_type": "code",
   "execution_count": 20,
   "metadata": {},
   "outputs": [
    {
     "name": "stdout",
     "output_type": "stream",
     "text": [
      "\n",
      "similarity between 'happy' and 'boyfriend': 0.20495614409446716\n",
      "similarity between 'anxious' and 'boyfriend': 0.2519543468952179\n",
      "similarity between 'happy' and 'anxious': 0.7824174761772156\n"
     ]
    }
   ],
   "source": [
    "print(f\"\"\"\n",
    "similarity between 'happy' and 'boyfriend': {cosine_similarity(happy_doc.vector, boyfriend_doc.vector)}\n",
    "similarity between 'anxious' and 'boyfriend': {cosine_similarity(anxious_doc.vector, boyfriend_doc.vector)}\n",
    "similarity between 'happy' and 'anxious': {cosine_similarity(happy_doc.vector, anxious_doc.vector)}\"\"\")"
   ]
  },
  {
   "cell_type": "markdown",
   "metadata": {},
   "source": [
    "According to these vectors your `boyfriend` make you both `happy` and `anxious`, but it does show more similarity between `happy` and `anxious` since they are emotions.\n",
    "\n",
    "## Transformers\n",
    "\n",
    "There are other vector embedings like the transformers. They now take the whole sentence as an input and assign different vectors to the same work. For instance, transformers can distinguish between the different use of `capital` in these two sentences: \"The capital of Chile is Santiago\" and \"We need more capital to cronstruct the new building\".\n",
    "\n",
    "`spacy` has their own transformer:"
   ]
  },
  {
   "cell_type": "code",
   "execution_count": 21,
   "metadata": {},
   "outputs": [],
   "source": [
    "# spacy transformer vectors\n",
    "nlp_trf = spacy.load(\"en_core_web_trf\")"
   ]
  },
  {
   "cell_type": "code",
   "execution_count": 22,
   "metadata": {},
   "outputs": [],
   "source": [
    "clean_spacy_doc_trf = nlp_trf(clean_lemmas_str)"
   ]
  },
  {
   "cell_type": "code",
   "execution_count": 23,
   "metadata": {},
   "outputs": [
    {
     "name": "stdout",
     "output_type": "stream",
     "text": [
      "sound\n",
      "(768,)\n"
     ]
    },
    {
     "data": {
      "text/plain": [
       "array([ 8.72906804e-01, -1.58120358e+00,  4.52512324e-01,  3.44418138e-01,\n",
       "        1.96635032e+00, -6.26613677e-01,  1.72431678e-01, -8.32102597e-02,\n",
       "        7.80573845e-01, -5.73202550e-01, -2.93627940e-02, -3.71090263e-01,\n",
       "       -6.75747156e-01, -1.79677236e+00, -4.97384608e-01,  5.31044900e-01,\n",
       "       -7.14508355e-01,  3.01965356e-01,  7.13799536e-01, -4.13126349e-02,\n",
       "       -1.42875433e-01, -8.00475836e-01, -7.37315476e-01,  2.35660136e-01,\n",
       "        1.66113377e+00, -1.22587860e-01, -2.86417365e-01, -6.12962008e-01,\n",
       "        1.14035428e+00,  1.48723140e-01, -8.82234275e-01,  3.13403428e-01,\n",
       "        5.26126288e-02,  9.88757551e-01, -8.06593180e-01, -4.41633761e-01,\n",
       "        1.92219228e-01,  4.59844708e-01, -4.65945393e-01,  2.75693566e-01,\n",
       "       -1.01578510e+00, -2.01677844e-01,  4.53991964e-02, -2.51795471e-01,\n",
       "       -6.17994189e-01,  2.49285817e-01,  4.49163049e-01, -6.19657338e-01,\n",
       "       -4.12319779e-01,  2.53873080e-01, -3.96087527e-01,  7.26398289e-01,\n",
       "        6.76516950e-01, -6.23411201e-02,  7.95683086e-01, -3.90259027e-01,\n",
       "        2.87807792e-01,  6.10163987e-01,  1.16106617e+00,  2.07250381e+00,\n",
       "       -3.04099530e-01, -4.54742402e-01, -4.68832284e-01, -7.37307131e-01,\n",
       "       -4.26798195e-01, -7.56805420e-01,  7.08186209e-01,  1.20611894e+00,\n",
       "        4.85676140e-01,  5.37305236e-01,  1.38243663e+00,  6.37699544e-01,\n",
       "       -1.65422595e+00, -7.48712122e-01, -2.64754087e-01,  9.00787711e-01,\n",
       "       -1.76769137e-01, -2.44464731e+00,  2.04099917e+00,  1.50049222e+00,\n",
       "        1.39331377e+00,  6.43161774e-01,  5.91770589e-01, -2.42640153e-02,\n",
       "        4.62392300e-01,  4.24489915e-01,  3.43218118e-01,  3.28064799e-01,\n",
       "        5.11707544e-01,  7.79859424e-02,  1.21982312e+00, -7.37006366e-01,\n",
       "        3.52647811e-01, -9.85319763e-02, -4.14263487e-01, -6.42040312e-01,\n",
       "       -3.00660670e-01, -1.04475224e+00,  5.61907701e-02, -6.27361536e-01,\n",
       "        7.28568912e-01,  1.28342599e-01, -6.28428817e-01,  1.31873488e+00,\n",
       "       -1.03733279e-01, -1.17213428e+00, -7.29121387e-01, -1.43114477e-02,\n",
       "        1.86652958e+00, -5.81038356e-01, -1.23277712e+00, -1.56355351e-01,\n",
       "        2.95536429e-01, -1.59559250e-01,  7.20849276e-01, -1.18508029e+00,\n",
       "        1.02272785e+00,  2.23713219e-01,  2.14532048e-01, -1.01185489e+00,\n",
       "       -1.48272276e+00,  4.81221117e-02, -7.95570433e-01, -2.02657670e-01,\n",
       "        8.73216838e-02, -3.00768793e-01,  7.67272711e-01, -1.27911901e+00,\n",
       "       -2.01976225e-02,  7.11916566e-01,  7.17229664e-01, -1.34045815e+00,\n",
       "       -2.39806399e-01, -1.93187431e-01,  1.07214773e+00,  4.41361547e-01,\n",
       "        8.34689558e-01,  1.32693678e-01, -5.45293093e-04,  4.09734219e-01,\n",
       "        9.37023461e-01, -1.81057036e-01,  9.53953385e-01, -1.02356958e+00,\n",
       "        8.52660775e-01,  1.63867578e-01,  3.02421629e-01, -2.12025166e-01,\n",
       "        4.46468562e-01, -3.59103501e-01, -4.51363102e-02,  8.00114751e-01,\n",
       "        1.32553113e+00,  9.23126996e-01,  1.67377365e+00,  6.43325090e-01,\n",
       "        1.54649222e+00,  5.18108308e-01,  1.88778508e+00, -3.27153146e-01,\n",
       "       -1.51874304e+00, -2.33320132e-01,  1.02669045e-01, -5.22845149e-01,\n",
       "        5.54458201e-01,  7.37420261e-01, -8.25987220e-01, -5.21366954e-01,\n",
       "       -9.46734667e-01, -7.94681430e-01,  3.27641606e-01,  2.70624667e-01,\n",
       "        1.64288372e-01,  1.02638197e+00,  1.04427063e+00,  1.74542117e+00,\n",
       "       -2.73537487e-01, -3.50102246e-01, -1.04210627e+00,  2.09760249e-01,\n",
       "       -4.56460476e-01, -1.69318169e-02,  7.63829350e-01,  2.94607580e-01,\n",
       "        1.07216977e-01,  2.49447718e-01, -7.58205712e-01, -7.15200126e-01,\n",
       "       -9.29965913e-01,  1.04068422e+00, -1.96107000e-01, -1.14446628e+00,\n",
       "       -2.37109333e-01,  2.74276376e-01,  5.21659553e-01, -4.14633423e-01,\n",
       "       -5.93010008e-01,  7.80049384e-01,  1.19206104e-02, -2.51660645e-01,\n",
       "        5.48320003e-02, -1.04238200e+00,  5.39673157e-02, -5.94964921e-01,\n",
       "        2.67320800e+00, -5.78237593e-01, -5.13357520e-01,  1.12829399e+00,\n",
       "       -1.68981612e-01, -2.28980526e-01, -9.81014848e-01,  9.59434152e-01,\n",
       "        1.18990040e+00,  7.04081655e-01, -9.06638980e-01, -6.33417785e-01,\n",
       "       -3.05437237e-01,  8.01777124e-01, -1.24211180e+00, -2.69481730e+00,\n",
       "        4.74452257e-01,  3.42943251e-01,  5.71607053e-01, -4.12416160e-02,\n",
       "       -4.71487910e-01,  5.07946551e-01, -9.89295542e-02, -2.92972997e-02,\n",
       "       -1.94972098e-01,  7.89162397e-01,  9.34772134e-01,  6.92865551e-01,\n",
       "       -7.16055572e-01,  5.38501218e-02, -9.10608411e-01,  1.15162241e+00,\n",
       "       -1.19714451e+00, -1.89009237e+00, -9.92430449e-02, -1.34123385e-01,\n",
       "       -1.10477340e+00,  4.16603804e-01, -7.13389397e-01,  1.04542613e-01,\n",
       "       -4.55119699e-01,  8.69998932e-01,  6.97983980e-01, -9.11200404e-01,\n",
       "       -2.04477143e+00, -3.92823458e-01, -6.23135448e-01, -7.54406095e-01,\n",
       "       -1.09835374e+00, -5.32223545e-02,  6.33417249e-01,  1.03756630e+00,\n",
       "       -2.92580307e-01,  3.03688288e-01, -3.37289602e-01, -1.55136395e+00,\n",
       "       -3.00882816e-01, -5.81990004e-01, -1.00799167e+00, -4.44886446e-01,\n",
       "       -6.33772373e-01, -1.22517407e+00, -5.15269935e-01, -1.21379025e-01,\n",
       "        7.56862342e-01,  6.10852540e-02, -5.04349649e-01, -6.05061650e-05,\n",
       "        7.17975140e-01,  1.03638959e+00,  1.82556361e-01,  1.59364116e+00,\n",
       "       -1.35266912e+00, -9.74896073e-01, -1.96092260e+00, -8.52080137e-02,\n",
       "       -1.34474427e-01, -5.48979461e-01,  1.10976589e+00, -5.91715947e-02,\n",
       "       -3.04828167e-01, -1.24529362e+00, -2.31865382e+00, -1.44295454e+00,\n",
       "        8.34378898e-02, -1.26894915e+00, -9.45640147e-01,  1.13171303e+00,\n",
       "       -8.15363884e-01,  1.30083747e-02, -8.07509243e-01,  1.25151873e+00,\n",
       "        2.75786400e-01,  4.66379195e-01,  1.14481413e+00,  1.39159822e+00,\n",
       "        2.72796065e-01,  6.36146843e-01, -3.13076645e-01, -1.00632943e-01,\n",
       "       -5.88906780e-02,  7.92058945e-01, -8.17526221e-01,  4.32276577e-02,\n",
       "       -4.11880106e-01,  4.01263893e-01,  1.05639040e+00,  6.96401715e-01,\n",
       "        1.20233381e+00, -7.31195927e-01,  4.17902440e-01, -7.46384442e-01,\n",
       "       -8.28275204e-01, -8.66421759e-01, -2.62083501e-01,  1.08339459e-01,\n",
       "        2.56135643e-01,  1.24076617e+00, -6.85412645e-01, -6.78276420e-01,\n",
       "        8.91290784e-01, -9.95074332e-01, -1.45520282e+00, -6.34325087e-01,\n",
       "       -7.10557044e-01,  1.01349056e+00,  4.28479135e-01,  3.22397614e+00,\n",
       "        1.24215579e+00, -1.36007464e+00, -4.73411947e-01, -9.85881463e-02,\n",
       "       -1.30185902e-01,  1.74932683e+00,  9.91588950e-01, -6.93648875e-01,\n",
       "        1.24854708e+00, -5.19455373e-01, -3.89750332e-01,  1.89103320e-01,\n",
       "        6.47029281e-01,  3.38590831e-01,  1.47555411e-01, -5.81452370e-01,\n",
       "        1.44793049e-01,  1.06729841e+00,  1.51553631e+00,  1.06013127e-01,\n",
       "        1.06102812e+00, -2.51013696e-01, -9.47246194e-01,  1.05495584e+00,\n",
       "        9.72335637e-01,  6.62019491e-01,  8.46854925e-01,  4.04013723e-01,\n",
       "       -6.84114933e-01, -5.84316850e-02, -4.13047463e-01,  2.05087733e+00,\n",
       "        2.63769984e-01, -4.38902617e-01, -1.41288805e+00, -1.19239676e+00,\n",
       "       -1.11840628e-02,  9.28952470e-02, -4.64662820e-01,  1.63121605e+00,\n",
       "        1.94891363e-01,  7.30493665e-01, -1.36776268e-01,  1.09843239e-01,\n",
       "        8.12038034e-03, -2.38175973e-01,  9.53923106e-01,  2.38059402e-01,\n",
       "        3.27705532e-01,  1.50078464e+00, -7.93416679e-01, -1.40129536e-01,\n",
       "        2.37734601e-01,  2.15283179e+00, -3.60127598e-01,  8.68594721e-02,\n",
       "       -6.79662108e-01, -2.71624863e-01, -5.56411222e-02,  6.70884371e-01,\n",
       "        8.98293734e-01, -6.25866532e-01, -5.26078701e-01, -1.65616855e-01,\n",
       "       -8.34998131e-01,  4.47067738e+00,  4.70970303e-01, -4.29786533e-01,\n",
       "       -5.31951003e-02,  6.93901598e-01, -2.23905712e-01,  7.54141212e-01,\n",
       "       -5.82252800e-01, -4.26660269e-01,  2.52342224e-03,  1.61363542e+00,\n",
       "       -3.59075785e-01,  5.85866749e-01,  4.25050735e-01, -8.63774657e-01,\n",
       "        6.00181758e-01,  4.34214890e-01, -5.05092204e-01, -7.77009964e-01,\n",
       "       -3.94895792e-01, -1.10674477e+00,  9.89215434e-01, -1.06257677e+00,\n",
       "        1.13664317e+00, -5.24454236e-01, -2.93630540e-01,  1.15027261e+00,\n",
       "        1.05293348e-01, -4.22348827e-02,  8.13448668e-01,  4.14470524e-01,\n",
       "       -7.15909779e-01, -5.02719998e-01, -4.79260623e-01, -1.08518079e-01,\n",
       "       -6.13933027e-01,  1.94486722e-01,  1.62417448e+00, -8.53432775e-01,\n",
       "        4.18894082e-01, -8.03530514e-01,  8.44108701e-01,  7.05775172e-02,\n",
       "        3.43694806e-01,  6.22963309e-01,  6.89553559e-01, -5.88049769e-01,\n",
       "        2.19933763e-01,  1.48811686e+00, -7.01288998e-01, -1.12269711e+00,\n",
       "        9.18913662e-01,  1.35467696e+00, -8.38435829e-01,  1.85344800e-01,\n",
       "        1.15365541e+00,  2.23437976e-02, -1.69186914e+00, -4.92253363e-01,\n",
       "        1.66898772e-01, -5.25090873e-01,  4.49388087e-01, -1.56810296e+00,\n",
       "       -7.59429276e-01, -5.61281979e-01, -2.03399241e-01, -4.34223294e-01,\n",
       "        4.71247673e-01, -2.33763859e-01,  7.99314737e-01, -1.05964875e+00,\n",
       "        2.72841096e-01, -6.79949284e-01,  1.69122189e-01,  2.39511982e-01,\n",
       "       -1.32783282e+00,  5.37288785e-01,  1.80951273e+00, -1.26429737e+00,\n",
       "        1.72619462e+00,  1.69910625e-01, -1.77859163e+00, -3.29674602e-01,\n",
       "        1.55444950e-01,  8.04199994e-01,  1.23764908e+00, -9.47789311e-01,\n",
       "       -1.03128493e+00, -6.90613151e-01,  2.83031195e-01,  4.43886727e-01,\n",
       "        3.22070718e-02, -3.03365231e-01, -1.02489781e+00, -2.55201608e-01,\n",
       "       -1.72440076e+00,  1.37188101e+00, -6.66660726e-01,  1.59343565e+00,\n",
       "       -4.16047156e-01,  1.28340948e+00,  1.22578335e+00, -8.19395900e-01,\n",
       "        4.40321386e-01,  8.40005457e-01, -1.06994975e+00,  5.12212455e-01,\n",
       "       -3.17713410e-01, -8.03412974e-01, -8.85132700e-02,  4.76236612e-01,\n",
       "       -1.09443235e+00,  1.09533712e-01, -1.32361948e+00,  4.27143842e-01,\n",
       "       -1.03131568e+00, -3.86799663e-01,  8.14714670e-01,  7.34184265e-01,\n",
       "       -4.69794601e-01, -1.28716916e-01, -7.86017299e-01, -6.68822408e-01,\n",
       "        2.27838010e-01,  2.54967153e-01, -1.81097254e-01, -1.52787483e+00,\n",
       "        5.86020410e-01, -6.75385535e-01,  1.02300060e+00,  7.49704018e-02,\n",
       "        7.62828290e-02, -1.09635305e+00,  1.19946456e+00,  4.26556170e-01,\n",
       "        2.95605421e-01, -2.28148356e-01,  6.03641331e-01, -4.13001359e-01,\n",
       "       -1.64172435e+00, -3.76028270e-01, -1.12671900e+00, -7.58167148e-01,\n",
       "       -3.60142976e-01, -1.02286026e-01, -1.37228221e-02, -7.28524268e-01,\n",
       "       -2.75287807e-01, -8.36143494e-01, -1.04328960e-01,  4.89889354e-01,\n",
       "        1.34281874e-01,  1.88255280e-01,  8.51463228e-02,  1.27761257e+00,\n",
       "       -7.85970449e-01,  2.89600015e-01, -2.27941535e-02,  7.62242973e-01,\n",
       "       -3.89963299e-01,  1.10597320e-01, -2.93717563e-01,  7.10664093e-01,\n",
       "        6.35419607e-01, -7.76946545e-03, -4.06218469e-01,  4.40613002e-01,\n",
       "        8.40876698e-01, -1.71940684e-01, -2.39238471e-01, -6.01060033e-01,\n",
       "       -1.32437497e-01,  3.79085951e-02, -2.47911334e+00, -9.75305200e-01,\n",
       "        1.11460662e+00,  9.08545792e-01, -1.71425235e+00,  2.51055777e-01,\n",
       "        7.26816416e-01,  5.26654609e-02,  8.51173103e-01,  2.15562224e-01,\n",
       "        7.59247601e-01, -1.24838674e+00,  7.68696904e-01,  1.77743629e-01,\n",
       "       -7.61002004e-01, -4.91721451e-01, -1.31222856e+00,  1.06901562e+00,\n",
       "        6.68766856e-01, -5.09902775e-01, -9.11284685e-01, -8.08394134e-01,\n",
       "       -1.47293061e-01,  1.46517611e+00, -7.09004998e-01,  1.46734715e+00,\n",
       "       -8.61317396e-01,  1.12657472e-01,  4.24657553e-01,  7.05181479e-01,\n",
       "       -3.63239259e-01,  1.50540161e+00,  3.93670321e-01,  1.27742994e+00,\n",
       "       -7.51574576e-01,  8.55299592e-01,  6.13672435e-01, -3.36169094e-01,\n",
       "        4.57443774e-01,  2.58986384e-01, -1.44339943e+00,  8.27563763e-01,\n",
       "       -2.97496229e-01, -6.58898592e-01,  3.42047274e-01,  5.64763486e-01,\n",
       "        2.92229712e-01,  7.27125883e-01, -4.96154994e-01, -8.59423518e-01,\n",
       "       -1.59380031e+00, -3.08977008e-01,  1.18210638e+00, -8.93273294e-01,\n",
       "       -1.33456814e+00, -5.88877380e-01, -3.46026242e-01,  1.57251072e+00,\n",
       "        6.61530137e-01,  4.03313249e-01,  1.09204662e+00, -3.65770787e-01,\n",
       "        3.18639010e-01,  8.22212934e-01, -3.21739733e-01,  1.02973640e-01,\n",
       "        8.82505178e-01, -2.97145903e-01,  4.42241281e-01,  3.91595244e-01,\n",
       "       -1.10384777e-01,  4.42235678e-01, -3.32673371e-01,  6.89720154e-01,\n",
       "        1.11425173e+00,  1.14102411e+00,  1.03184022e-01,  1.39608741e+00,\n",
       "        1.25142133e+00, -5.58520079e-01,  8.89948249e-01, -4.98789549e-01,\n",
       "       -1.33459592e+00,  9.25312817e-01,  9.32521045e-01,  1.49049866e+00,\n",
       "       -4.09693837e-01,  4.16753352e-01,  2.83490717e-01, -1.65404856e+00,\n",
       "       -7.19864666e-02,  1.38414693e+00,  1.36571777e+00,  4.97973412e-01,\n",
       "       -1.42194462e+00,  1.41804412e-01,  1.83763742e-01,  1.24561441e+00,\n",
       "        7.98934519e-01, -9.31692898e-01,  1.26438820e+00, -2.80686557e-01,\n",
       "        1.32021055e-01,  9.52382386e-01,  2.47824907e+00, -8.53709638e-01,\n",
       "       -1.13831304e-01, -1.23492324e+00,  1.79768896e+00,  8.81439805e-01,\n",
       "        8.41973960e-01, -3.38628888e-01, -3.89664829e-01,  1.04975510e+00,\n",
       "        8.62058342e-01,  7.80518055e-01, -9.49868262e-01,  1.20239317e+00,\n",
       "        1.81855214e+00,  1.73739898e+00,  9.57408547e-01, -6.30162433e-02,\n",
       "       -2.00875223e-01, -9.74126160e-04, -3.63189846e-01, -9.02825117e-01,\n",
       "       -1.63396335e+00, -4.16437179e-01,  5.40232897e-01,  1.79080153e+00,\n",
       "       -4.04166728e-01, -1.08362682e-01,  6.60189092e-01, -8.28298211e-01,\n",
       "        1.38277158e-01, -6.66921496e-01, -6.91461325e-01,  6.99004307e-02,\n",
       "       -3.19664776e-02,  6.36757255e-01,  3.75704944e-01, -3.43552828e-01,\n",
       "       -5.44456661e-01,  4.58903372e-01,  2.64851809e-01, -1.25052857e+00,\n",
       "        2.26718044e+00, -6.15325630e-01,  2.65592647e+00,  6.11977994e-01,\n",
       "        2.28381896e+00, -1.06363094e+00,  5.39781928e-01, -2.69843549e-01,\n",
       "        2.29431570e-01,  1.28267312e+00,  1.67422086e-01,  5.96527994e-01,\n",
       "       -1.47222078e+00, -1.56537205e-01,  1.40008509e+00, -1.77973652e+00,\n",
       "        4.50781792e-01,  8.99442494e-01, -1.63583636e+00,  4.12326127e-01,\n",
       "        4.36013579e-01, -6.07566655e-01,  1.05503201e+00,  8.63439798e-01,\n",
       "       -1.49864972e-01, -1.20943451e+00, -7.89159611e-02,  7.73197711e-01,\n",
       "        3.85682076e-01, -8.69256139e-01,  9.53319252e-01,  2.42374942e-01,\n",
       "        1.19313109e+00,  1.57256573e-01,  6.36831224e-01,  6.91542983e-01,\n",
       "        1.20459244e-01, -3.78800511e-01,  1.08529174e+00,  8.81516814e-01,\n",
       "        3.76951247e-01,  1.27812654e-01,  2.92618901e-01, -5.52634060e-01,\n",
       "       -8.79702508e-01, -5.94101250e-01, -1.13229430e+00, -8.80622923e-01,\n",
       "       -1.12607074e+00, -1.27732730e+00, -3.99174020e-02, -4.76906806e-01],\n",
       "      dtype=float32)"
      ]
     },
     "execution_count": 23,
     "metadata": {},
     "output_type": "execute_result"
    }
   ],
   "source": [
    "# access the transformer vector for the first token\n",
    "trf_vector = clean_spacy_doc_trf._.trf_data.last_hidden_layer_state.data[0]\n",
    "\n",
    "print(clean_spacy_doc_trf[0].text)\n",
    "print(trf_vector.shape)\n",
    "trf_vector"
   ]
  },
  {
   "cell_type": "code",
   "execution_count": 24,
   "metadata": {},
   "outputs": [],
   "source": [
    "# note that happy, anxious and boyfriend are in that same sentece at 28, 17, 2\n",
    "happy_vec = clean_spacy_doc_trf._.trf_data.last_hidden_layer_state.data[28]\n",
    "boyfriend_vec = clean_spacy_doc_trf._.trf_data.last_hidden_layer_state.data[2]\n",
    "anxious_vec = clean_spacy_doc_trf._.trf_data.last_hidden_layer_state.data[17]"
   ]
  },
  {
   "cell_type": "markdown",
   "metadata": {},
   "source": [
    "We will get different similarity scores, showing more conection between emotions"
   ]
  },
  {
   "cell_type": "code",
   "execution_count": 25,
   "metadata": {},
   "outputs": [
    {
     "name": "stdout",
     "output_type": "stream",
     "text": [
      "\n",
      "similarity between 'happy' and 'boyfriend': 0.49974775314331055\n",
      "similarity between 'anxious' and 'boyfriend': 0.5148409605026245\n",
      "similarity between 'happy' and 'anxious': 0.9122516512870789\n"
     ]
    }
   ],
   "source": [
    "print(f\"\"\"\n",
    "similarity between 'happy' and 'boyfriend': {cosine_similarity(happy_vec, boyfriend_vec)}\n",
    "similarity between 'anxious' and 'boyfriend': {cosine_similarity(anxious_vec, boyfriend_vec)}\n",
    "similarity between 'happy' and 'anxious': {cosine_similarity(happy_vec, anxious_vec)}\"\"\")"
   ]
  },
  {
   "cell_type": "markdown",
   "metadata": {},
   "source": [
    "But the most common transformer is the [Universal Sentence Encoder (USE)](https://static.googleusercontent.com/media/research.google.com/en//pubs/archive/46808.pdf) developed by Google.\n",
    "\n",
    "This model is available in tensorflow, so we can download it from there"
   ]
  },
  {
   "cell_type": "code",
   "execution_count": 26,
   "metadata": {},
   "outputs": [],
   "source": [
    "import ssl\n",
    "ssl._create_default_https_context = ssl._create_unverified_context\n",
    "\n",
    "import tensorflow as tf\n",
    "import tensorflow_hub as hub          # needed to download the models\n",
    "import tensorflow_text"
   ]
  },
  {
   "cell_type": "code",
   "execution_count": 28,
   "metadata": {},
   "outputs": [],
   "source": [
    "# Load multilingual USE models\n",
    "# Use TensorFlow Hub's direct URL instead of Kaggle\n",
    "model_USE = hub.load(\"https://tfhub.dev/google/universal-sentence-encoder/4\")\n",
    "\n",
    "def embed(input):\n",
    "  return model_USE(input)\n",
    "\n",
    "def get_USE_vector(text):\n",
    "    return embed([text]).numpy()[0]"
   ]
  },
  {
   "cell_type": "code",
   "execution_count": 29,
   "metadata": {},
   "outputs": [
    {
     "name": "stdout",
     "output_type": "stream",
     "text": [
      "\n",
      "similarity between 'happy' and 'boyfriend': 0.49974775314331055\n",
      "similarity between 'anxious' and 'boyfriend': 0.5148409605026245\n",
      "similarity between 'happy' and 'anxious': 0.9122516512870789\n"
     ]
    }
   ],
   "source": [
    "anxious_vecs = get_USE_vector('anxious')\n",
    "happy_vecs = get_USE_vector('happy')\n",
    "boyfriend_vecs = get_USE_vector('boyfriend')\n",
    "\n",
    "print(f\"\"\"\n",
    "similarity between 'happy' and 'boyfriend': {cosine_similarity(happy_vec, boyfriend_vec)}\n",
    "similarity between 'anxious' and 'boyfriend': {cosine_similarity(anxious_vec, boyfriend_vec)}\n",
    "similarity between 'happy' and 'anxious': {cosine_similarity(happy_vec, anxious_vec)}\"\"\")"
   ]
  },
  {
   "cell_type": "markdown",
   "metadata": {},
   "source": [
    "Finaly, you can do this vector embedding by each document (e.i. string) for patients and psy responses. For this, the model takes a sort of average of all the word vector embeddings to get to a document embedding."
   ]
  },
  {
   "cell_type": "code",
   "execution_count": 30,
   "metadata": {},
   "outputs": [
    {
     "data": {
      "application/vnd.jupyter.widget-view+json": {
       "model_id": "91ed99d2a5464632957d03e2a4a21455",
       "version_major": 2,
       "version_minor": 0
      },
      "text/plain": [
       "  0%|          | 0/20 [00:00<?, ?it/s]"
      ]
     },
     "metadata": {},
     "output_type": "display_data"
    },
    {
     "data": {
      "application/vnd.jupyter.widget-view+json": {
       "model_id": "30f654985de948839fbc6fef7ff0f636",
       "version_major": 2,
       "version_minor": 0
      },
      "text/plain": [
       "  0%|          | 0/20 [00:00<?, ?it/s]"
      ]
     },
     "metadata": {},
     "output_type": "display_data"
    }
   ],
   "source": [
    "mental_health['patient_USE_vecs'] = mental_health['patient_comment'].progress_apply(lambda x: get_USE_vector(x))\n",
    "mental_health['psyc_USE_vecs'] = mental_health['psyc_response'].progress_apply(lambda x: get_USE_vector(x))"
   ]
  },
  {
   "cell_type": "markdown",
   "metadata": {},
   "source": [
    "One way to see how appropiate are the responses could be to see if the comment is similar to the response"
   ]
  },
  {
   "cell_type": "code",
   "execution_count": 31,
   "metadata": {},
   "outputs": [
    {
     "data": {
      "application/vnd.jupyter.widget-view+json": {
       "model_id": "2819122e98a94ca29855b6e52429530b",
       "version_major": 2,
       "version_minor": 0
      },
      "text/plain": [
       "  0%|          | 0/20 [00:00<?, ?it/s]"
      ]
     },
     "metadata": {},
     "output_type": "display_data"
    }
   ],
   "source": [
    "mental_health['similarity'] = mental_health.progress_apply(lambda x: cosine_similarity(x['patient_USE_vecs'], x['psyc_USE_vecs']), axis=1)"
   ]
  },
  {
   "cell_type": "code",
   "execution_count": 32,
   "metadata": {},
   "outputs": [
    {
     "data": {
      "text/plain": [
       "count    20.000000\n",
       "mean      0.446258\n",
       "std       0.138363\n",
       "min       0.096046\n",
       "25%       0.369737\n",
       "50%       0.480822\n",
       "75%       0.530662\n",
       "max       0.624899\n",
       "Name: similarity, dtype: float64"
      ]
     },
     "execution_count": 32,
     "metadata": {},
     "output_type": "execute_result"
    }
   ],
   "source": [
    "mental_health['similarity'].describe()"
   ]
  },
  {
   "cell_type": "markdown",
   "metadata": {},
   "source": [
    "Let's check the ones with most and least similarity"
   ]
  },
  {
   "cell_type": "code",
   "execution_count": 33,
   "metadata": {},
   "outputs": [
    {
     "name": "stdout",
     "output_type": "stream",
     "text": [
      "Maximum Similarity Score: 0.62489873\n",
      "\n",
      "Patient Comment (Max Similarity):\n",
      "I have so many issues to address. I have a history of sexual abuse, I’m a breast cancer survivor and I am a lifetime insomniac.    I have a long history of depression and I’m beginning to have anxiety. I have low self esteem but I’ve been happily married for almost 35 years.\n",
      "   I’ve never had counseling about any of this. Do I have too many issues to address in counseling?\n",
      "\n",
      "Psychologist Response (Max Similarity):\n",
      "I think this is a very common question that people who have never been to counseling before have.  There is a lot of anxiety in going to counseling for the first time.  This is normal.  In answer to your  question, the answer is an absolute NO!  An important thing to remember about getting counseling is that it is a courageous first step towards hope and healing.  Getting help is like training to run a marathon, it is not a sprint.  You have shared a lot of issues that you are dealing with from your past, that are now negatively impacting your present, but I believe that in getting the right kind of help and support, none of them are impossible to overcome.  Part of the therapeutic process is defining and prioritizing therapy goals.  In collaboration with you, as a client, a therapist is there to help you with this process in determining what you would like to work on first.  Not getting counseling, based on the history you have shared, has the potential to put you more at risk for mental and physical health issues.  You are already seeing this happen as you begin to experience new symptoms, namely your anxiety.  In therapy, you will gain understanding and insight, as well as learn skills and strategies to manage the symptoms you are experiencing.In conclusion, I would encourage you to reach out to a licensed counselor who has experience in treating trauma, grief/loss and will address shame.  These are three areas that I have found that gets to  the core issues that are contributing to your depression and anxiety.   I believe you can get the help you need to find hope and healing.  Best of luck to you!\n",
      "\n",
      "--------------------------------------------------------------------------------\n",
      "\n",
      "Minimum Similarity Score: 0.09604578\n",
      "\n",
      "Patient Comment (Min Similarity):\n",
      "I've pretty much been on my own since day one, I'm a middle child of five, and I can't seem to put my trust in anyone. It took me four years to finally open up a little to my best friend. Every time I realize that I have feelings for someone, I freak out and never talk to them again. I really want some help.\n",
      "\n",
      "Psychologist Response (Min Similarity):\n",
      "One way to concentrate is that if your mind starts to wonder then remind yourself to bring your attention back.Start with short time spans of expecting yourself to concentrate.  You'll more likely succeed with concentrating with small time spans than longer ones.Once you start seeing your success, this will motivate you to try increasing the length to expect yourself to concentrate.The task of self-reminding is the same, whether for long or short time periods.Also, before starting this exercise ask your medical doctor if the problem can be related to a physical health problem.If there is, then have the possibility ruled out that your difficulty concentrating comes from the mental ability to concentrate, and not some medical reason preventing this.Before someone can engage their psychological will there must be a clean medical body and mind with which to work.\n"
     ]
    }
   ],
   "source": [
    "max_sim = mental_health['similarity'].max()\n",
    "min_sim = mental_health['similarity'].min()\n",
    "\n",
    "# Get rows with max and min similarity\n",
    "max_sim_row = mental_health[mental_health['similarity'] == max_sim].iloc[0]\n",
    "min_sim_row = mental_health[mental_health['similarity'] == min_sim].iloc[0]\n",
    "\n",
    "print(\"Maximum Similarity Score:\", max_sim)\n",
    "print(\"\\nPatient Comment (Max Similarity):\")\n",
    "print(max_sim_row['patient_comment'])\n",
    "print(\"\\nPsychologist Response (Max Similarity):\")\n",
    "print(max_sim_row['psyc_response'])\n",
    "\n",
    "print(\"\\n\" + \"-\"*80 + \"\\n\")\n",
    "\n",
    "print(\"Minimum Similarity Score:\", min_sim)\n",
    "print(\"\\nPatient Comment (Min Similarity):\")\n",
    "print(min_sim_row['patient_comment'])\n",
    "print(\"\\nPsychologist Response (Min Similarity):\")\n",
    "print(min_sim_row['psyc_response'])\n"
   ]
  },
  {
   "cell_type": "markdown",
   "metadata": {},
   "source": [
    "It makes sense why the max similarity since the psycologists aknowleges the patient. However, it's not that clear why there is lower similarity.\n",
    "\n",
    "Now, these vectors are in a very high dimension. Typically one gets the [latent space](https://en.wikipedia.org/wiki/Latent_space) of these vectors and project it to a 2d plane, where we can visualize these.\n",
    "\n",
    "## Latent Space\n",
    "\n",
    "The standard approaches are the [t-SNE](https://en.wikipedia.org/wiki/T-distributed_stochastic_neighbor_embedding) and the [UMAP](https://pair-code.github.io/understanding-umap/), but both turn high dementional vectors into a 2d space.\n",
    "\n",
    "> Note that PCA (principal component analysis) is also another latent space algorithm common in economics\n",
    "\n",
    "A standard in the industry is to always get the similarity scores with the 2d latent space, as it encodes more intuitive meaning, rather than with a $n\\text{-d}$ space."
   ]
  },
  {
   "cell_type": "code",
   "execution_count": 34,
   "metadata": {},
   "outputs": [],
   "source": [
    "from sklearn.manifold import TSNE\n",
    "import umap"
   ]
  },
  {
   "cell_type": "code",
   "execution_count": 35,
   "metadata": {},
   "outputs": [],
   "source": [
    "# the perplexity is a very important parameter for t-SNE\n",
    "# with lower number of samples, you should use lower perplexity\n",
    "# but it also lower the performance\n",
    "tsne = tsne = TSNE(n_components=2, random_state = 1337, perplexity=10)"
   ]
  },
  {
   "cell_type": "markdown",
   "metadata": {},
   "source": [
    "Now we need to load the text together, so that these algorithms get the realtions between any vectors in our dataset"
   ]
  },
  {
   "cell_type": "code",
   "execution_count": null,
   "metadata": {},
   "outputs": [],
   "source": [
    "vectors_patients = np.array([np.array(xi) for xi in mental_health['patient_USE_vecs']])\n",
    "vectors_psycs = np.array([np.array(xi) for xi in mental_health['psyc_USE_vecs']])\n",
    "lables = [\"patient\" for _ in range(len(vectors_patients))] + \\\n",
    "         [\"psycho\" for _ in range(len(vectors_psycs))]\n",
    "vectors = np.concatenate((vectors_patients, vectors_psycs), axis=0)"
   ]
  },
  {
   "cell_type": "code",
   "execution_count": null,
   "metadata": {},
   "outputs": [],
   "source": [
    "# fit the model to the data\n",
    "fitted_vals = tsne.fit_transform(vectors)\n",
    "TSNE_vecs = fitted_vals.tolist()"
   ]
  },
  {
   "cell_type": "code",
   "execution_count": 37,
   "metadata": {},
   "outputs": [
    {
     "data": {
      "text/html": [
       "<div>\n",
       "<style scoped>\n",
       "    .dataframe tbody tr th:only-of-type {\n",
       "        vertical-align: middle;\n",
       "    }\n",
       "\n",
       "    .dataframe tbody tr th {\n",
       "        vertical-align: top;\n",
       "    }\n",
       "\n",
       "    .dataframe thead th {\n",
       "        text-align: right;\n",
       "    }\n",
       "</style>\n",
       "<table border=\"1\" class=\"dataframe\">\n",
       "  <thead>\n",
       "    <tr style=\"text-align: right;\">\n",
       "      <th></th>\n",
       "      <th>x</th>\n",
       "      <th>y</th>\n",
       "      <th>label</th>\n",
       "      <th>vec</th>\n",
       "    </tr>\n",
       "  </thead>\n",
       "  <tbody>\n",
       "    <tr>\n",
       "      <th>0</th>\n",
       "      <td>1.007799</td>\n",
       "      <td>-11.043644</td>\n",
       "      <td>patient</td>\n",
       "      <td>[1.0077993869781494, -11.043643951416016]</td>\n",
       "    </tr>\n",
       "    <tr>\n",
       "      <th>1</th>\n",
       "      <td>-11.626817</td>\n",
       "      <td>18.184179</td>\n",
       "      <td>patient</td>\n",
       "      <td>[-11.626816749572754, 18.184179306030273]</td>\n",
       "    </tr>\n",
       "    <tr>\n",
       "      <th>2</th>\n",
       "      <td>37.828568</td>\n",
       "      <td>12.419387</td>\n",
       "      <td>patient</td>\n",
       "      <td>[37.82856750488281, 12.419386863708496]</td>\n",
       "    </tr>\n",
       "    <tr>\n",
       "      <th>3</th>\n",
       "      <td>10.155830</td>\n",
       "      <td>-5.351288</td>\n",
       "      <td>patient</td>\n",
       "      <td>[10.155830383300781, -5.351287841796875]</td>\n",
       "    </tr>\n",
       "    <tr>\n",
       "      <th>4</th>\n",
       "      <td>42.318703</td>\n",
       "      <td>-2.958052</td>\n",
       "      <td>patient</td>\n",
       "      <td>[42.318702697753906, -2.958052396774292]</td>\n",
       "    </tr>\n",
       "    <tr>\n",
       "      <th>5</th>\n",
       "      <td>14.566445</td>\n",
       "      <td>-12.400793</td>\n",
       "      <td>patient</td>\n",
       "      <td>[14.566445350646973, -12.400793075561523]</td>\n",
       "    </tr>\n",
       "    <tr>\n",
       "      <th>6</th>\n",
       "      <td>-28.926716</td>\n",
       "      <td>0.350754</td>\n",
       "      <td>patient</td>\n",
       "      <td>[-28.926715850830078, 0.3507542312145233]</td>\n",
       "    </tr>\n",
       "    <tr>\n",
       "      <th>7</th>\n",
       "      <td>-2.335475</td>\n",
       "      <td>-4.702879</td>\n",
       "      <td>patient</td>\n",
       "      <td>[-2.335474729537964, -4.702878952026367]</td>\n",
       "    </tr>\n",
       "    <tr>\n",
       "      <th>8</th>\n",
       "      <td>-18.312840</td>\n",
       "      <td>32.713959</td>\n",
       "      <td>patient</td>\n",
       "      <td>[-18.31283950805664, 32.713958740234375]</td>\n",
       "    </tr>\n",
       "    <tr>\n",
       "      <th>9</th>\n",
       "      <td>8.326019</td>\n",
       "      <td>-29.116011</td>\n",
       "      <td>patient</td>\n",
       "      <td>[8.326019287109375, -29.116010665893555]</td>\n",
       "    </tr>\n",
       "    <tr>\n",
       "      <th>10</th>\n",
       "      <td>-21.716175</td>\n",
       "      <td>10.112427</td>\n",
       "      <td>patient</td>\n",
       "      <td>[-21.716175079345703, 10.1124267578125]</td>\n",
       "    </tr>\n",
       "    <tr>\n",
       "      <th>11</th>\n",
       "      <td>-10.008017</td>\n",
       "      <td>-16.885035</td>\n",
       "      <td>patient</td>\n",
       "      <td>[-10.008016586303711, -16.885034561157227]</td>\n",
       "    </tr>\n",
       "    <tr>\n",
       "      <th>12</th>\n",
       "      <td>-19.360371</td>\n",
       "      <td>-7.808326</td>\n",
       "      <td>patient</td>\n",
       "      <td>[-19.360370635986328, -7.80832576751709]</td>\n",
       "    </tr>\n",
       "    <tr>\n",
       "      <th>13</th>\n",
       "      <td>-24.490349</td>\n",
       "      <td>-1.575969</td>\n",
       "      <td>patient</td>\n",
       "      <td>[-24.49034881591797, -1.5759693384170532]</td>\n",
       "    </tr>\n",
       "    <tr>\n",
       "      <th>14</th>\n",
       "      <td>-22.498793</td>\n",
       "      <td>34.119213</td>\n",
       "      <td>patient</td>\n",
       "      <td>[-22.49879264831543, 34.11921310424805]</td>\n",
       "    </tr>\n",
       "    <tr>\n",
       "      <th>15</th>\n",
       "      <td>-25.190191</td>\n",
       "      <td>15.224542</td>\n",
       "      <td>patient</td>\n",
       "      <td>[-25.1901912689209, 15.224541664123535]</td>\n",
       "    </tr>\n",
       "    <tr>\n",
       "      <th>16</th>\n",
       "      <td>-10.943211</td>\n",
       "      <td>3.393445</td>\n",
       "      <td>patient</td>\n",
       "      <td>[-10.94321060180664, 3.393444776535034]</td>\n",
       "    </tr>\n",
       "    <tr>\n",
       "      <th>17</th>\n",
       "      <td>36.077271</td>\n",
       "      <td>-8.306416</td>\n",
       "      <td>patient</td>\n",
       "      <td>[36.0772705078125, -8.306415557861328]</td>\n",
       "    </tr>\n",
       "    <tr>\n",
       "      <th>18</th>\n",
       "      <td>-27.470297</td>\n",
       "      <td>10.603136</td>\n",
       "      <td>patient</td>\n",
       "      <td>[-27.47029685974121, 10.60313606262207]</td>\n",
       "    </tr>\n",
       "    <tr>\n",
       "      <th>19</th>\n",
       "      <td>-20.036674</td>\n",
       "      <td>20.604383</td>\n",
       "      <td>patient</td>\n",
       "      <td>[-20.03667449951172, 20.60438346862793]</td>\n",
       "    </tr>\n",
       "    <tr>\n",
       "      <th>20</th>\n",
       "      <td>17.941851</td>\n",
       "      <td>0.508070</td>\n",
       "      <td>psycho</td>\n",
       "      <td>[17.941850662231445, 0.5080701112747192]</td>\n",
       "    </tr>\n",
       "    <tr>\n",
       "      <th>21</th>\n",
       "      <td>-6.033683</td>\n",
       "      <td>19.821159</td>\n",
       "      <td>psycho</td>\n",
       "      <td>[-6.033682823181152, 19.82115936279297]</td>\n",
       "    </tr>\n",
       "    <tr>\n",
       "      <th>22</th>\n",
       "      <td>35.317242</td>\n",
       "      <td>6.084716</td>\n",
       "      <td>psycho</td>\n",
       "      <td>[35.31724166870117, 6.084716320037842]</td>\n",
       "    </tr>\n",
       "    <tr>\n",
       "      <th>23</th>\n",
       "      <td>10.123881</td>\n",
       "      <td>0.283535</td>\n",
       "      <td>psycho</td>\n",
       "      <td>[10.123881340026855, 0.283535361289978]</td>\n",
       "    </tr>\n",
       "    <tr>\n",
       "      <th>24</th>\n",
       "      <td>33.515289</td>\n",
       "      <td>-0.058632</td>\n",
       "      <td>psycho</td>\n",
       "      <td>[33.515289306640625, -0.058631736785173416]</td>\n",
       "    </tr>\n",
       "    <tr>\n",
       "      <th>25</th>\n",
       "      <td>20.885933</td>\n",
       "      <td>-9.465765</td>\n",
       "      <td>psycho</td>\n",
       "      <td>[20.88593292236328, -9.465764999389648]</td>\n",
       "    </tr>\n",
       "    <tr>\n",
       "      <th>26</th>\n",
       "      <td>19.876017</td>\n",
       "      <td>8.647845</td>\n",
       "      <td>psycho</td>\n",
       "      <td>[19.87601661682129, 8.647845268249512]</td>\n",
       "    </tr>\n",
       "    <tr>\n",
       "      <th>27</th>\n",
       "      <td>0.652520</td>\n",
       "      <td>-0.204583</td>\n",
       "      <td>psycho</td>\n",
       "      <td>[0.652519702911377, -0.20458336174488068]</td>\n",
       "    </tr>\n",
       "    <tr>\n",
       "      <th>28</th>\n",
       "      <td>-5.947619</td>\n",
       "      <td>27.411150</td>\n",
       "      <td>psycho</td>\n",
       "      <td>[-5.947619438171387, 27.411149978637695]</td>\n",
       "    </tr>\n",
       "    <tr>\n",
       "      <th>29</th>\n",
       "      <td>12.679144</td>\n",
       "      <td>-27.826519</td>\n",
       "      <td>psycho</td>\n",
       "      <td>[12.679143905639648, -27.826519012451172]</td>\n",
       "    </tr>\n",
       "    <tr>\n",
       "      <th>30</th>\n",
       "      <td>7.069623</td>\n",
       "      <td>17.087490</td>\n",
       "      <td>psycho</td>\n",
       "      <td>[7.06962251663208, 17.08749008178711]</td>\n",
       "    </tr>\n",
       "    <tr>\n",
       "      <th>31</th>\n",
       "      <td>-8.101273</td>\n",
       "      <td>-20.908096</td>\n",
       "      <td>psycho</td>\n",
       "      <td>[-8.101272583007812, -20.908096313476562]</td>\n",
       "    </tr>\n",
       "    <tr>\n",
       "      <th>32</th>\n",
       "      <td>9.114788</td>\n",
       "      <td>6.114298</td>\n",
       "      <td>psycho</td>\n",
       "      <td>[9.114788055419922, 6.114298343658447]</td>\n",
       "    </tr>\n",
       "    <tr>\n",
       "      <th>33</th>\n",
       "      <td>25.559639</td>\n",
       "      <td>-20.525528</td>\n",
       "      <td>psycho</td>\n",
       "      <td>[25.55963897705078, -20.525527954101562]</td>\n",
       "    </tr>\n",
       "    <tr>\n",
       "      <th>34</th>\n",
       "      <td>-4.852150</td>\n",
       "      <td>34.102177</td>\n",
       "      <td>psycho</td>\n",
       "      <td>[-4.8521504402160645, 34.102176666259766]</td>\n",
       "    </tr>\n",
       "    <tr>\n",
       "      <th>35</th>\n",
       "      <td>-1.329159</td>\n",
       "      <td>21.183863</td>\n",
       "      <td>psycho</td>\n",
       "      <td>[-1.3291585445404053, 21.183862686157227]</td>\n",
       "    </tr>\n",
       "    <tr>\n",
       "      <th>36</th>\n",
       "      <td>-6.327013</td>\n",
       "      <td>8.495390</td>\n",
       "      <td>psycho</td>\n",
       "      <td>[-6.327012538909912, 8.495389938354492]</td>\n",
       "    </tr>\n",
       "    <tr>\n",
       "      <th>37</th>\n",
       "      <td>30.202414</td>\n",
       "      <td>-3.053175</td>\n",
       "      <td>psycho</td>\n",
       "      <td>[30.20241355895996, -3.0531747341156006]</td>\n",
       "    </tr>\n",
       "    <tr>\n",
       "      <th>38</th>\n",
       "      <td>0.017189</td>\n",
       "      <td>14.223381</td>\n",
       "      <td>psycho</td>\n",
       "      <td>[0.017188938334584236, 14.223381042480469]</td>\n",
       "    </tr>\n",
       "    <tr>\n",
       "      <th>39</th>\n",
       "      <td>15.166713</td>\n",
       "      <td>20.479900</td>\n",
       "      <td>psycho</td>\n",
       "      <td>[15.166712760925293, 20.479900360107422]</td>\n",
       "    </tr>\n",
       "  </tbody>\n",
       "</table>\n",
       "</div>"
      ],
      "text/plain": [
       "            x          y    label                                          vec\n",
       "0    1.007799 -11.043644  patient    [1.0077993869781494, -11.043643951416016]\n",
       "1  -11.626817  18.184179  patient    [-11.626816749572754, 18.184179306030273]\n",
       "2   37.828568  12.419387  patient      [37.82856750488281, 12.419386863708496]\n",
       "3   10.155830  -5.351288  patient     [10.155830383300781, -5.351287841796875]\n",
       "4   42.318703  -2.958052  patient     [42.318702697753906, -2.958052396774292]\n",
       "5   14.566445 -12.400793  patient    [14.566445350646973, -12.400793075561523]\n",
       "6  -28.926716   0.350754  patient    [-28.926715850830078, 0.3507542312145233]\n",
       "7   -2.335475  -4.702879  patient     [-2.335474729537964, -4.702878952026367]\n",
       "8  -18.312840  32.713959  patient     [-18.31283950805664, 32.713958740234375]\n",
       "9    8.326019 -29.116011  patient     [8.326019287109375, -29.116010665893555]\n",
       "10 -21.716175  10.112427  patient      [-21.716175079345703, 10.1124267578125]\n",
       "11 -10.008017 -16.885035  patient   [-10.008016586303711, -16.885034561157227]\n",
       "12 -19.360371  -7.808326  patient     [-19.360370635986328, -7.80832576751709]\n",
       "13 -24.490349  -1.575969  patient    [-24.49034881591797, -1.5759693384170532]\n",
       "14 -22.498793  34.119213  patient      [-22.49879264831543, 34.11921310424805]\n",
       "15 -25.190191  15.224542  patient      [-25.1901912689209, 15.224541664123535]\n",
       "16 -10.943211   3.393445  patient      [-10.94321060180664, 3.393444776535034]\n",
       "17  36.077271  -8.306416  patient       [36.0772705078125, -8.306415557861328]\n",
       "18 -27.470297  10.603136  patient      [-27.47029685974121, 10.60313606262207]\n",
       "19 -20.036674  20.604383  patient      [-20.03667449951172, 20.60438346862793]\n",
       "20  17.941851   0.508070   psycho     [17.941850662231445, 0.5080701112747192]\n",
       "21  -6.033683  19.821159   psycho      [-6.033682823181152, 19.82115936279297]\n",
       "22  35.317242   6.084716   psycho       [35.31724166870117, 6.084716320037842]\n",
       "23  10.123881   0.283535   psycho      [10.123881340026855, 0.283535361289978]\n",
       "24  33.515289  -0.058632   psycho  [33.515289306640625, -0.058631736785173416]\n",
       "25  20.885933  -9.465765   psycho      [20.88593292236328, -9.465764999389648]\n",
       "26  19.876017   8.647845   psycho       [19.87601661682129, 8.647845268249512]\n",
       "27   0.652520  -0.204583   psycho    [0.652519702911377, -0.20458336174488068]\n",
       "28  -5.947619  27.411150   psycho     [-5.947619438171387, 27.411149978637695]\n",
       "29  12.679144 -27.826519   psycho    [12.679143905639648, -27.826519012451172]\n",
       "30   7.069623  17.087490   psycho        [7.06962251663208, 17.08749008178711]\n",
       "31  -8.101273 -20.908096   psycho    [-8.101272583007812, -20.908096313476562]\n",
       "32   9.114788   6.114298   psycho       [9.114788055419922, 6.114298343658447]\n",
       "33  25.559639 -20.525528   psycho     [25.55963897705078, -20.525527954101562]\n",
       "34  -4.852150  34.102177   psycho    [-4.8521504402160645, 34.102176666259766]\n",
       "35  -1.329159  21.183863   psycho    [-1.3291585445404053, 21.183862686157227]\n",
       "36  -6.327013   8.495390   psycho      [-6.327012538909912, 8.495389938354492]\n",
       "37  30.202414  -3.053175   psycho     [30.20241355895996, -3.0531747341156006]\n",
       "38   0.017189  14.223381   psycho   [0.017188938334584236, 14.223381042480469]\n",
       "39  15.166713  20.479900   psycho     [15.166712760925293, 20.479900360107422]"
      ]
     },
     "execution_count": 37,
     "metadata": {},
     "output_type": "execute_result"
    }
   ],
   "source": [
    "TSNE_vecs_df = pd.DataFrame(TSNE_vecs, columns=[\"x\", \"y\"])\n",
    "TSNE_vecs_df[\"label\"] = lables\n",
    "TSNE_vecs_df[\"vec\"] = TSNE_vecs\n",
    "TSNE_vecs_df"
   ]
  },
  {
   "cell_type": "markdown",
   "metadata": {},
   "source": [
    "Now we can represent them in a cartesian plane!"
   ]
  },
  {
   "cell_type": "code",
   "execution_count": 38,
   "metadata": {},
   "outputs": [
    {
     "data": {
      "image/png": "[encoded data removed]",
      "text/plain": [
       "<Figure size 640x480 with 1 Axes>"
      ]
     },
     "metadata": {},
     "output_type": "display_data"
    }
   ],
   "source": [
    "import matplotlib.pyplot as plt\n",
    "\n",
    "# Plot points by label\n",
    "patient_df = TSNE_vecs_df[TSNE_vecs_df['label'] == 'patient']\n",
    "psyc_df = TSNE_vecs_df[TSNE_vecs_df['label'] == 'psycho']\n",
    "\n",
    "plt.scatter(patient_df['x'], patient_df['y'], color='red', label='Patient Comments', alpha=0.7)\n",
    "plt.scatter(psyc_df['x'], psyc_df['y'], color='blue', label='Psychologist Responses', alpha=0.7)\n",
    "\n",
    "plt.title('t-SNE Visualization of Patient Comments and Psychologist Responses')\n",
    "plt.xlabel('t-SNE dimension 1')\n",
    "plt.ylabel('t-SNE dimension 2')\n",
    "plt.legend()\n",
    "plt.grid(alpha=0.3)\n",
    "plt.show()"
   ]
  },
  {
   "cell_type": "markdown",
   "metadata": {},
   "source": [
    "There are no clear cluster's so far that we see.\n",
    "\n",
    "However, if we think similarity we might see something different"
   ]
  },
  {
   "cell_type": "code",
   "execution_count": 39,
   "metadata": {},
   "outputs": [],
   "source": [
    "mental_health['TSNE_similarity'] = [cosine_similarity(x, y) for x, y in zip(TSNE_vecs_df.loc[TSNE_vecs_df['label'] == 'patient',\"vec\"], TSNE_vecs_df.loc[TSNE_vecs_df['label'] == 'psycho',\"vec\"])]"
   ]
  },
  {
   "cell_type": "code",
   "execution_count": 40,
   "metadata": {},
   "outputs": [
    {
     "data": {
      "text/plain": [
       "count    20.000000\n",
       "mean      0.441464\n",
       "std       0.682487\n",
       "min      -0.978548\n",
       "25%       0.057865\n",
       "50%       0.839675\n",
       "75%       0.968735\n",
       "max       0.997686\n",
       "Name: TSNE_similarity, dtype: float64"
      ]
     },
     "execution_count": 40,
     "metadata": {},
     "output_type": "execute_result"
    }
   ],
   "source": [
    "mental_health['TSNE_similarity'].describe()"
   ]
  },
  {
   "cell_type": "markdown",
   "metadata": {},
   "source": [
    "Note that the median patient-psycologist response is almost in the same direction, which is good. Only one had a opposite direction response"
   ]
  },
  {
   "cell_type": "code",
   "execution_count": 41,
   "metadata": {},
   "outputs": [],
   "source": [
    "# Find indices of max and min TSNE_similarity\n",
    "min_tsne_idx = mental_health['TSNE_similarity'].idxmin()\n",
    "max_tsne_idx = mental_health['TSNE_similarity'].idxmax()"
   ]
  },
  {
   "cell_type": "code",
   "execution_count": 42,
   "metadata": {},
   "outputs": [
    {
     "data": {
      "image/png": "[encoded data removed]",
      "text/plain": [
       "<Figure size 1000x400 with 2 Axes>"
      ]
     },
     "metadata": {},
     "output_type": "display_data"
    }
   ],
   "source": [
    "# Find indices of max and min TSNE_similarity\n",
    "min_tsne_idx = mental_health['TSNE_similarity'].idxmin()\n",
    "max_tsne_idx = mental_health['TSNE_similarity'].idxmax()\n",
    "\n",
    "# Get corresponding indices in TSNE_vecs_df\n",
    "min_idx_patient = mental_health.index.get_loc(min_tsne_idx)\n",
    "min_idx_psych = min_idx_patient + len(vectors_patients)  # Offset to psychologist vectors\n",
    "max_idx_patient = mental_health.index.get_loc(max_tsne_idx)\n",
    "max_idx_psych = max_idx_patient + len(vectors_patients)  # Offset to psychologist vectors\n",
    "\n",
    "# Get the corresponding TSNE coordinates from TSNE_vecs_df\n",
    "min_patient = TSNE_vecs_df.iloc[min_idx_patient]['vec']\n",
    "min_psyc = TSNE_vecs_df.iloc[min_idx_psych]['vec']\n",
    "max_patient = TSNE_vecs_df.iloc[max_idx_patient]['vec']\n",
    "max_psyc = TSNE_vecs_df.iloc[max_idx_psych]['vec']\n",
    "\n",
    "# Get all coordinates for the background points\n",
    "patient_x = TSNE_vecs_df[TSNE_vecs_df['label'] == 'patient']['x']\n",
    "patient_y = TSNE_vecs_df[TSNE_vecs_df['label'] == 'patient']['y']\n",
    "psyc_x = TSNE_vecs_df[TSNE_vecs_df['label'] == 'psycho']['x']\n",
    "psyc_y = TSNE_vecs_df[TSNE_vecs_df['label'] == 'psycho']['y']\n",
    "\n",
    "# Create a figure with two subplots\n",
    "fig, axs = plt.subplots(1, 2, figsize=(10, 4))\n",
    "\n",
    "# Plot for minimum similarity\n",
    "axs[0].scatter(patient_x, patient_y, color='grey', alpha=0.7)\n",
    "axs[0].scatter(psyc_x, psyc_y, color='grey', alpha=0.7)\n",
    "axs[0].quiver(0, 0, min_patient[0], min_patient[1], angles='xy', scale_units='xy', scale=1, color='red', label='Patient Comment')\n",
    "axs[0].quiver(0, 0, min_psyc[0], min_psyc[1], angles='xy', scale_units='xy', scale=1, color='blue', label='Psychologist Response')\n",
    "axs[0].set_title(f'Lowest TSNE Similarity Score: {mental_health[\"TSNE_similarity\"].min():.4f}')\n",
    "\n",
    "axs[0].set_xlabel('t-SNE dimension 1')\n",
    "axs[0].set_ylabel('t-SNE dimension 2')\n",
    "axs[0].grid(alpha=0.3)\n",
    "axs[0].legend()\n",
    "\n",
    "# Set reasonable limits based on the data range\n",
    "x_min, x_max = TSNE_vecs_df['x'].min(), TSNE_vecs_df['x'].max()\n",
    "y_min, y_max = TSNE_vecs_df['y'].min(), TSNE_vecs_df['y'].max()\n",
    "margin = 5\n",
    "axs[0].set_xlim(x_min - margin, x_max + margin)\n",
    "axs[0].set_ylim(y_min - margin, y_max + margin)\n",
    "\n",
    "# Plot for maximum similarity\n",
    "axs[1].scatter(patient_x, patient_y, color='grey', alpha=0.7)\n",
    "axs[1].scatter(psyc_x, psyc_y, color='grey', alpha=0.7)\n",
    "axs[1].quiver(0, 0, max_patient[0], max_patient[1], angles='xy', scale_units='xy', scale=1, color='red', label='Patient Comment')\n",
    "axs[1].quiver(0, 0, max_psyc[0], max_psyc[1], angles='xy', scale_units='xy', scale=1, color='blue', label='Psychologist Response')\n",
    "axs[1].set_title(f'Highest TSNE Similarity Score: {mental_health[\"TSNE_similarity\"].max():.4f}')\n",
    "axs[1].set_xlabel('t-SNE dimension 1')\n",
    "axs[1].set_ylabel('t-SNE dimension 2')\n",
    "axs[1].grid(alpha=0.3)\n",
    "axs[1].legend()\n",
    "\n",
    "# Use same limits for consistency\n",
    "axs[1].set_xlim(x_min - margin, x_max + margin)\n",
    "axs[1].set_ylim(y_min - margin, y_max + margin)\n",
    "\n",
    "plt.tight_layout()\n",
    "plt.show()"
   ]
  },
  {
   "cell_type": "code",
   "execution_count": 43,
   "metadata": {},
   "outputs": [
    {
     "name": "stdout",
     "output_type": "stream",
     "text": [
      "Similarity score: -0.9785\n",
      "\n",
      "Patient comment:\n",
      "As a child, my parents injured my brother, so they went to prison. I was there when he had gotten hurt, but I can't seem to remember. I also can't remember being with them quite well. It's a blur.\n",
      "\n",
      "Psychologist response:\n",
      "Sorry to hear of having witnessed violence within your family when you were very young.Your blocked memories are a self-protection from the enormous emotional pain and feeling de-stabilized by realizing that the people whom you expected to trust, are harmful.Already you are at the first step, which is to know that memories exist about the disturbing events concerning your brother.Probably the best way of finding your way back to those times, is by paying attention to all of who you are today.The more intently and with loving interest you are able to notice yourself, you will be gradually dissolving the layers of protective thoughts about intimacy being unsafe.Basically, you will be teaching yourself how to slowly trust yourself.Since trust is what was violated while you were young, you will be developing a new model for trusting yourself and others.Then, more of the memories of your painful and overwhelming times will make themselves available to you.They are simply waiting for you to be strong and trusting enough within yourself, to tolerate them!\n",
      "\n",
      "--------------------------------------------------------------------------------\n",
      "\n",
      "Similarity score: 0.9977\n",
      "\n",
      "Patient comment:\n",
      "I crave attention, companionship, and sex. She has had a hysterectomy, and she has a bad knee.\n",
      "\n",
      "Psychologist response:\n",
      "Hi Hampton,Although I'd bet your wife also wants the attention and companionship, it seems that there are a few barriers in your sexual relationship right now. I also would bet that there are things that your wife would like from you. This is a very common issue; two people with different sexual drives or needs. If you both want the relationship to improve, a couple's therapist who works in sexuality is a great idea; it's a complex picture that you've only given us a glimpse of.In the meantime, you can try a few things: have compassion for your wife. She's in pain and this may preoccupy her. Sex may be uncomfortable for her. She needs understanding. You need understanding too, right?  Help her to see that you're not just angry, but lonely and hurt; it might affect how you see yourself as a man. Showing her irritability or anger might push her farther away.There are many ways to be close, intimate, and sexual that don't involve intercourse. You might want to explore some of these things and reassure her that you won't pressure her to have intercourse. Find out what your wife's wishes and ideas are. You might be surprised.These things take time to address, especially if they've been years in the making. I do recommend seeing that therapist. Relationships are very complex and it takes time to explore all the layers and barriers to change. Best of luck.\n",
      "\n",
      "--------------------------------------------------------------------------------\n",
      "\n"
     ]
    }
   ],
   "source": [
    "for ind in [min_tsne_idx, max_tsne_idx]:\n",
    "    print(f\"Similarity score: {mental_health.loc[ind]['TSNE_similarity']:.4f}\")\n",
    "    print(\"\\nPatient comment:\")\n",
    "    print(mental_health.loc[ind]['patient_comment'])\n",
    "    print(\"\\nPsychologist response:\")\n",
    "    print(mental_health.loc[ind]['psyc_response'])\n",
    "    print(\"\\n\" + \"-\"*80 + \"\\n\")"
   ]
  },
  {
   "cell_type": "markdown",
   "metadata": {},
   "source": [
    "Now we can do the same with UMAP, which will give us a different vectors."
   ]
  },
  {
   "cell_type": "code",
   "execution_count": 44,
   "metadata": {},
   "outputs": [],
   "source": [
    "reducer = umap.UMAP(transform_seed=1337, random_state=7331)"
   ]
  },
  {
   "cell_type": "code",
   "execution_count": 45,
   "metadata": {},
   "outputs": [
    {
     "name": "stderr",
     "output_type": "stream",
     "text": [
      "/Users/jjgecon/Library/CloudStorage/OneDrive-Personal/Work/GitHub Repos/NLP_starter/.venv/lib/python3.11/site-packages/sklearn/utils/deprecation.py:151: FutureWarning: 'force_all_finite' was renamed to 'ensure_all_finite' in 1.6 and will be removed in 1.8.\n",
      "  warnings.warn(\n",
      "/Users/jjgecon/Library/CloudStorage/OneDrive-Personal/Work/GitHub Repos/NLP_starter/.venv/lib/python3.11/site-packages/umap/umap_.py:1952: UserWarning: n_jobs value 1 overridden to 1 by setting random_state. Use no seed for parallelism.\n",
      "  warn(\n",
      "OMP: Info #276: omp_set_nested routine deprecated, please use omp_set_max_active_levels instead.\n"
     ]
    }
   ],
   "source": [
    "fitted_vals = reducer.fit_transform(vectors)\n",
    "psyc_UMAP_vecs = fitted_vals.tolist()"
   ]
  },
  {
   "cell_type": "code",
   "execution_count": 46,
   "metadata": {},
   "outputs": [],
   "source": [
    "UMAP_vecs_df = pd.DataFrame(psyc_UMAP_vecs, columns=[\"x\", \"y\"])\n",
    "UMAP_vecs_df[\"label\"] = lables\n",
    "UMAP_vecs_df[\"vec\"] = psyc_UMAP_vecs"
   ]
  },
  {
   "cell_type": "code",
   "execution_count": 47,
   "metadata": {},
   "outputs": [
    {
     "data": {
      "image/png": "[encoded data removed]",
      "text/plain": [
       "<Figure size 640x480 with 1 Axes>"
      ]
     },
     "metadata": {},
     "output_type": "display_data"
    }
   ],
   "source": [
    "# Plot points by label\n",
    "patient_df = UMAP_vecs_df[UMAP_vecs_df['label'] == 'patient']\n",
    "psyc_df = UMAP_vecs_df[UMAP_vecs_df['label'] == 'psycho']\n",
    "\n",
    "plt.scatter(patient_df['x'], patient_df['y'], color='red', label='Patient Comments', alpha=0.7)\n",
    "plt.scatter(psyc_df['x'], psyc_df['y'], color='blue', label='Psychologist Responses', alpha=0.7)\n",
    "\n",
    "plt.title('UMAP Visualization of Patient Comments and Psychologist Responses')\n",
    "plt.xlabel('UMAP dimension 1')\n",
    "plt.ylabel('UAMP dimension 2')\n",
    "plt.legend()\n",
    "plt.grid(alpha=0.3)\n",
    "plt.show()"
   ]
  },
  {
   "cell_type": "markdown",
   "metadata": {},
   "source": [
    "Notice how with this UMAP, we now can see two cluster's already forming from patients and psycologists"
   ]
  },
  {
   "cell_type": "code",
   "execution_count": 48,
   "metadata": {},
   "outputs": [],
   "source": [
    "mental_health['UMAP_similarity'] = [cosine_similarity(x, y) for x, y in zip(UMAP_vecs_df.loc[UMAP_vecs_df['label'] == 'patient',\"vec\"], UMAP_vecs_df.loc[UMAP_vecs_df['label'] == 'psycho',\"vec\"])]"
   ]
  },
  {
   "cell_type": "code",
   "execution_count": 49,
   "metadata": {},
   "outputs": [
    {
     "data": {
      "text/plain": [
       "count    20.000000\n",
       "mean      0.998888\n",
       "std       0.001400\n",
       "min       0.994537\n",
       "25%       0.998447\n",
       "50%       0.999346\n",
       "75%       0.999699\n",
       "max       1.000000\n",
       "Name: UMAP_similarity, dtype: float64"
      ]
     },
     "execution_count": 49,
     "metadata": {},
     "output_type": "execute_result"
    }
   ],
   "source": [
    "mental_health['UMAP_similarity'].describe()"
   ]
  },
  {
   "cell_type": "markdown",
   "metadata": {},
   "source": [
    "In this case almost all responces are good (in the cosine similarity sense).\n",
    "\n",
    "Which means that the algorithm that you use to get the latent space matters for the similarity calculations."
   ]
  },
  {
   "cell_type": "markdown",
   "metadata": {},
   "source": [
    "You can also try to embbed Images into a 2d space!\n",
    "\n",
    "The [Activation Atlases](https://distill.pub/2019/activation-atlas/) looks at images and their associated word to try to understand how does computer relate images to text."
   ]
  }
 ],
 "metadata": {
  "kernelspec": {
   "display_name": ".venv",
   "language": "python",
   "name": "python3"
  },
  "language_info": {
   "codemirror_mode": {
    "name": "ipython",
    "version": 3
   },
   "file_extension": ".py",
   "mimetype": "text/x-python",
   "name": "python",
   "nbconvert_exporter": "python",
   "pygments_lexer": "ipython3",
   "version": "3.11.6"
  }
 },
 "nbformat": 4,
 "nbformat_minor": 2
}
