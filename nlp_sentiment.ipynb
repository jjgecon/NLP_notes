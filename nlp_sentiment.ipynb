{
 "cells": [
  {
   "cell_type": "code",
   "execution_count": 63,
   "metadata": {},
   "outputs": [],
   "source": [
    "from tqdm.auto import tqdm\n",
    "import os\n",
    "import pandas as pd\n",
    "pd.options.mode.chained_assignment = None  # default='warn' This disables warning of \"copying a slice of a DataFrame\"\n",
    "tqdm.pandas() # activate progress_apply\n",
    "\n",
    "import numpy as np\n",
    "from copy import copy"
   ]
  },
  {
   "cell_type": "markdown",
   "metadata": {},
   "source": [
    "# Data\n",
    "\n",
    "Let's keep using the responses of psycologists to comments from patients dataset"
   ]
  },
  {
   "cell_type": "code",
   "execution_count": 64,
   "metadata": {},
   "outputs": [
    {
     "data": {
      "text/html": [
       "<div>\n",
       "<style scoped>\n",
       "    .dataframe tbody tr th:only-of-type {\n",
       "        vertical-align: middle;\n",
       "    }\n",
       "\n",
       "    .dataframe tbody tr th {\n",
       "        vertical-align: top;\n",
       "    }\n",
       "\n",
       "    .dataframe thead th {\n",
       "        text-align: right;\n",
       "    }\n",
       "</style>\n",
       "<table border=\"1\" class=\"dataframe\">\n",
       "  <thead>\n",
       "    <tr style=\"text-align: right;\">\n",
       "      <th></th>\n",
       "      <th>patient_comment</th>\n",
       "      <th>psyc_response</th>\n",
       "    </tr>\n",
       "  </thead>\n",
       "  <tbody>\n",
       "    <tr>\n",
       "      <th>3296</th>\n",
       "      <td>My boyfriend is in Ireland for 11 days, and I ...</td>\n",
       "      <td>It sounds like you and your boyfriend are very...</td>\n",
       "    </tr>\n",
       "    <tr>\n",
       "      <th>2011</th>\n",
       "      <td>I have so many issues to address. I have a his...</td>\n",
       "      <td>I think this is a very common question that pe...</td>\n",
       "    </tr>\n",
       "    <tr>\n",
       "      <th>1683</th>\n",
       "      <td>After 40 years of being straight, how could I ...</td>\n",
       "      <td>Sexuality is normally formed during adolescenc...</td>\n",
       "    </tr>\n",
       "    <tr>\n",
       "      <th>1560</th>\n",
       "      <td>I feel like I took our relationship for grante...</td>\n",
       "      <td>A key factor in a relationship is trust.I'd st...</td>\n",
       "    </tr>\n",
       "    <tr>\n",
       "      <th>1267</th>\n",
       "      <td>I crave attention, companionship, and sex. She...</td>\n",
       "      <td>Hi Hampton,Although I'd bet your wife also wan...</td>\n",
       "    </tr>\n",
       "    <tr>\n",
       "      <th>2895</th>\n",
       "      <td>He said he would try and he never did. It's be...</td>\n",
       "      <td>If your husband is changing his mind about whe...</td>\n",
       "    </tr>\n",
       "    <tr>\n",
       "      <th>2697</th>\n",
       "      <td>I always feel the need to impress people, whet...</td>\n",
       "      <td>It is normal to seek other’s attention and not...</td>\n",
       "    </tr>\n",
       "    <tr>\n",
       "      <th>1042</th>\n",
       "      <td>We're in an eight year relationship. My boyfri...</td>\n",
       "      <td>First, let me extend my compassion to both of ...</td>\n",
       "    </tr>\n",
       "    <tr>\n",
       "      <th>3312</th>\n",
       "      <td>I've gone to a couple therapy sessions so far ...</td>\n",
       "      <td>Yes, it is completely normal to feel anxious a...</td>\n",
       "    </tr>\n",
       "    <tr>\n",
       "      <th>2788</th>\n",
       "      <td>He is an adolescent. He has peed his pant mult...</td>\n",
       "      <td>Sounds as though your son is \"pissed off\" abou...</td>\n",
       "    </tr>\n",
       "    <tr>\n",
       "      <th>606</th>\n",
       "      <td>I'm being verbally abused on a daily basis by ...</td>\n",
       "      <td>I am so sorry this is happening to you.  One t...</td>\n",
       "    </tr>\n",
       "    <tr>\n",
       "      <th>1443</th>\n",
       "      <td>I am always arguing with my father. He gets st...</td>\n",
       "      <td>Thanks for the question. Regardless of whether...</td>\n",
       "    </tr>\n",
       "    <tr>\n",
       "      <th>2576</th>\n",
       "      <td>As a child, my parents injured my brother, so ...</td>\n",
       "      <td>Sorry to hear of having witnessed violence wit...</td>\n",
       "    </tr>\n",
       "    <tr>\n",
       "      <th>1078</th>\n",
       "      <td>I've pretty much been on my own since day one,...</td>\n",
       "      <td>One way to concentrate is that if your mind st...</td>\n",
       "    </tr>\n",
       "    <tr>\n",
       "      <th>1948</th>\n",
       "      <td>Is it normal for people to cry during therapy,...</td>\n",
       "      <td>Yes, it's totally normal! Crying is a part of ...</td>\n",
       "    </tr>\n",
       "    <tr>\n",
       "      <th>73</th>\n",
       "      <td>I’m facing severe depression and anxiety and I...</td>\n",
       "      <td>Working with a great therapist who can help yo...</td>\n",
       "    </tr>\n",
       "    <tr>\n",
       "      <th>2687</th>\n",
       "      <td>It happens especially at me and my sister, and...</td>\n",
       "      <td>You are very wise for a young person. You have...</td>\n",
       "    </tr>\n",
       "    <tr>\n",
       "      <th>1606</th>\n",
       "      <td>I am currently suffering from erectile dysfunc...</td>\n",
       "      <td>Hi, First and foremost, I want to acknowledge ...</td>\n",
       "    </tr>\n",
       "    <tr>\n",
       "      <th>266</th>\n",
       "      <td>I am not sure if I am depressed. I don't know ...</td>\n",
       "      <td>I am so sorry you are struggling!  I do think ...</td>\n",
       "    </tr>\n",
       "    <tr>\n",
       "      <th>1501</th>\n",
       "      <td>I've been bulimic for about 6 years now. I'm i...</td>\n",
       "      <td>Eating disorders usually result from a sense o...</td>\n",
       "    </tr>\n",
       "  </tbody>\n",
       "</table>\n",
       "</div>"
      ],
      "text/plain": [
       "                                        patient_comment  \\\n",
       "3296  My boyfriend is in Ireland for 11 days, and I ...   \n",
       "2011  I have so many issues to address. I have a his...   \n",
       "1683  After 40 years of being straight, how could I ...   \n",
       "1560  I feel like I took our relationship for grante...   \n",
       "1267  I crave attention, companionship, and sex. She...   \n",
       "2895  He said he would try and he never did. It's be...   \n",
       "2697  I always feel the need to impress people, whet...   \n",
       "1042  We're in an eight year relationship. My boyfri...   \n",
       "3312  I've gone to a couple therapy sessions so far ...   \n",
       "2788  He is an adolescent. He has peed his pant mult...   \n",
       "606   I'm being verbally abused on a daily basis by ...   \n",
       "1443  I am always arguing with my father. He gets st...   \n",
       "2576  As a child, my parents injured my brother, so ...   \n",
       "1078  I've pretty much been on my own since day one,...   \n",
       "1948  Is it normal for people to cry during therapy,...   \n",
       "73    I’m facing severe depression and anxiety and I...   \n",
       "2687  It happens especially at me and my sister, and...   \n",
       "1606  I am currently suffering from erectile dysfunc...   \n",
       "266   I am not sure if I am depressed. I don't know ...   \n",
       "1501  I've been bulimic for about 6 years now. I'm i...   \n",
       "\n",
       "                                          psyc_response  \n",
       "3296  It sounds like you and your boyfriend are very...  \n",
       "2011  I think this is a very common question that pe...  \n",
       "1683  Sexuality is normally formed during adolescenc...  \n",
       "1560  A key factor in a relationship is trust.I'd st...  \n",
       "1267  Hi Hampton,Although I'd bet your wife also wan...  \n",
       "2895  If your husband is changing his mind about whe...  \n",
       "2697  It is normal to seek other’s attention and not...  \n",
       "1042  First, let me extend my compassion to both of ...  \n",
       "3312  Yes, it is completely normal to feel anxious a...  \n",
       "2788  Sounds as though your son is \"pissed off\" abou...  \n",
       "606   I am so sorry this is happening to you.  One t...  \n",
       "1443  Thanks for the question. Regardless of whether...  \n",
       "2576  Sorry to hear of having witnessed violence wit...  \n",
       "1078  One way to concentrate is that if your mind st...  \n",
       "1948  Yes, it's totally normal! Crying is a part of ...  \n",
       "73    Working with a great therapist who can help yo...  \n",
       "2687  You are very wise for a young person. You have...  \n",
       "1606  Hi, First and foremost, I want to acknowledge ...  \n",
       "266   I am so sorry you are struggling!  I do think ...  \n",
       "1501  Eating disorders usually result from a sense o...  "
      ]
     },
     "execution_count": 64,
     "metadata": {},
     "output_type": "execute_result"
    }
   ],
   "source": [
    "mental_health = pd.read_csv(\"data/mental_health.csv\")\n",
    "mental_health.rename(columns={\"Context\": \"patient_comment\", \"Response\": \"psyc_response\"}, inplace=True)\n",
    "mental_health.dropna(inplace=True)\n",
    "\n",
    "# take a sample of 20 responses\n",
    "mental_health = mental_health.sample(20, random_state=1337)\n",
    "mental_health"
   ]
  },
  {
   "cell_type": "markdown",
   "metadata": {},
   "source": [
    "# Sentiment Analysis\n",
    "\n",
    "A commom clasification task on NLP is to see if a piece of text has a positive or negative tone. Think of the Amazon reviews and how a computer can detect whether that reviews is favorable or not for a product.\n",
    "\n",
    "In our particular case, we want to know how does the psychologists react to their patients comments. \n",
    "\n",
    "We can now try to test 2 things:\n",
    "1. Are patient's comments always negative?\n",
    "2. Do psycologists always respond in a postive way?\n",
    "\n",
    "We will use some huggingface models for this task. A list of sentiment analysis model can be found [here](https://huggingface.co/models?pipeline_tag=text-classification&sort=trending) and look some sentiment or emotion."
   ]
  },
  {
   "cell_type": "markdown",
   "metadata": {},
   "source": [
    "## [DestilBERT](https://huggingface.co/distilbert/distilbert-base-uncased-finetuned-sst-2-english)\n",
    "\n",
    "We will first use Hugging Face's default sentiment analysis pipeline `DestilBERT`"
   ]
  },
  {
   "cell_type": "code",
   "execution_count": 65,
   "metadata": {},
   "outputs": [],
   "source": [
    "from transformers import pipeline"
   ]
  },
  {
   "cell_type": "code",
   "execution_count": 66,
   "metadata": {},
   "outputs": [
    {
     "name": "stderr",
     "output_type": "stream",
     "text": [
      "No model was supplied, defaulted to distilbert/distilbert-base-uncased-finetuned-sst-2-english and revision 714eb0f (https://huggingface.co/distilbert/distilbert-base-uncased-finetuned-sst-2-english).\n",
      "Using a pipeline without specifying a model name and revision in production is not recommended.\n",
      "All PyTorch model weights were used when initializing TFDistilBertForSequenceClassification.\n",
      "\n",
      "All the weights of TFDistilBertForSequenceClassification were initialized from the PyTorch model.\n",
      "If your task is similar to the task the model of the checkpoint was trained on, you can already use TFDistilBertForSequenceClassification for predictions without further training.\n",
      "Device set to use 0\n"
     ]
    }
   ],
   "source": [
    "# Load the model\n",
    "sentiment_pipeline = pipeline(\"sentiment-analysis\")"
   ]
  },
  {
   "cell_type": "code",
   "execution_count": 67,
   "metadata": {},
   "outputs": [
    {
     "data": {
      "application/vnd.jupyter.widget-view+json": {
       "model_id": "0f914ba04e8f4b7991c3eff28ea80003",
       "version_major": 2,
       "version_minor": 0
      },
      "text/plain": [
       "  0%|          | 0/20 [00:00<?, ?it/s]"
      ]
     },
     "metadata": {},
     "output_type": "display_data"
    }
   ],
   "source": [
    "patients_sentiment = mental_health['patient_comment'].progress_apply(lambda x: sentiment_pipeline(x))"
   ]
  },
  {
   "cell_type": "markdown",
   "metadata": {},
   "source": [
    "The model returns a classification label and the probability of that classification"
   ]
  },
  {
   "cell_type": "code",
   "execution_count": 68,
   "metadata": {},
   "outputs": [],
   "source": [
    "mental_health['patient_sentiment'] = [x[0]['label'] for x in patients_sentiment]\n",
    "mental_health['patient_sentiment_prob'] = [x[0]['score'] for x in patients_sentiment]"
   ]
  },
  {
   "cell_type": "code",
   "execution_count": 69,
   "metadata": {},
   "outputs": [
    {
     "data": {
      "text/html": [
       "<div>\n",
       "<style scoped>\n",
       "    .dataframe tbody tr th:only-of-type {\n",
       "        vertical-align: middle;\n",
       "    }\n",
       "\n",
       "    .dataframe tbody tr th {\n",
       "        vertical-align: top;\n",
       "    }\n",
       "\n",
       "    .dataframe thead th {\n",
       "        text-align: right;\n",
       "    }\n",
       "</style>\n",
       "<table border=\"1\" class=\"dataframe\">\n",
       "  <thead>\n",
       "    <tr style=\"text-align: right;\">\n",
       "      <th></th>\n",
       "      <th>patient_comment</th>\n",
       "      <th>patient_sentiment</th>\n",
       "      <th>patient_sentiment_prob</th>\n",
       "    </tr>\n",
       "  </thead>\n",
       "  <tbody>\n",
       "    <tr>\n",
       "      <th>3296</th>\n",
       "      <td>My boyfriend is in Ireland for 11 days, and I ...</td>\n",
       "      <td>NEGATIVE</td>\n",
       "      <td>0.999582</td>\n",
       "    </tr>\n",
       "    <tr>\n",
       "      <th>2011</th>\n",
       "      <td>I have so many issues to address. I have a his...</td>\n",
       "      <td>POSITIVE</td>\n",
       "      <td>0.925290</td>\n",
       "    </tr>\n",
       "    <tr>\n",
       "      <th>1683</th>\n",
       "      <td>After 40 years of being straight, how could I ...</td>\n",
       "      <td>NEGATIVE</td>\n",
       "      <td>0.986875</td>\n",
       "    </tr>\n",
       "    <tr>\n",
       "      <th>1560</th>\n",
       "      <td>I feel like I took our relationship for grante...</td>\n",
       "      <td>NEGATIVE</td>\n",
       "      <td>0.998597</td>\n",
       "    </tr>\n",
       "    <tr>\n",
       "      <th>1267</th>\n",
       "      <td>I crave attention, companionship, and sex. She...</td>\n",
       "      <td>POSITIVE</td>\n",
       "      <td>0.921631</td>\n",
       "    </tr>\n",
       "  </tbody>\n",
       "</table>\n",
       "</div>"
      ],
      "text/plain": [
       "                                        patient_comment patient_sentiment  \\\n",
       "3296  My boyfriend is in Ireland for 11 days, and I ...          NEGATIVE   \n",
       "2011  I have so many issues to address. I have a his...          POSITIVE   \n",
       "1683  After 40 years of being straight, how could I ...          NEGATIVE   \n",
       "1560  I feel like I took our relationship for grante...          NEGATIVE   \n",
       "1267  I crave attention, companionship, and sex. She...          POSITIVE   \n",
       "\n",
       "      patient_sentiment_prob  \n",
       "3296                0.999582  \n",
       "2011                0.925290  \n",
       "1683                0.986875  \n",
       "1560                0.998597  \n",
       "1267                0.921631  "
      ]
     },
     "execution_count": 69,
     "metadata": {},
     "output_type": "execute_result"
    }
   ],
   "source": [
    "mental_health[['patient_comment','patient_sentiment','patient_sentiment_prob']].head()"
   ]
  },
  {
   "cell_type": "code",
   "execution_count": 70,
   "metadata": {},
   "outputs": [
    {
     "data": {
      "text/plain": [
       "patient_sentiment\n",
       "NEGATIVE    16\n",
       "POSITIVE     4\n",
       "Name: count, dtype: int64"
      ]
     },
     "execution_count": 70,
     "metadata": {},
     "output_type": "execute_result"
    }
   ],
   "source": [
    "mental_health['patient_sentiment'].value_counts()"
   ]
  },
  {
   "cell_type": "code",
   "execution_count": 71,
   "metadata": {},
   "outputs": [
    {
     "data": {
      "text/html": [
       "<div>\n",
       "<style scoped>\n",
       "    .dataframe tbody tr th:only-of-type {\n",
       "        vertical-align: middle;\n",
       "    }\n",
       "\n",
       "    .dataframe tbody tr th {\n",
       "        vertical-align: top;\n",
       "    }\n",
       "\n",
       "    .dataframe thead th {\n",
       "        text-align: right;\n",
       "    }\n",
       "</style>\n",
       "<table border=\"1\" class=\"dataframe\">\n",
       "  <thead>\n",
       "    <tr style=\"text-align: right;\">\n",
       "      <th></th>\n",
       "      <th>count</th>\n",
       "      <th>mean</th>\n",
       "      <th>std</th>\n",
       "      <th>min</th>\n",
       "      <th>25%</th>\n",
       "      <th>50%</th>\n",
       "      <th>75%</th>\n",
       "      <th>max</th>\n",
       "    </tr>\n",
       "    <tr>\n",
       "      <th>patient_sentiment</th>\n",
       "      <th></th>\n",
       "      <th></th>\n",
       "      <th></th>\n",
       "      <th></th>\n",
       "      <th></th>\n",
       "      <th></th>\n",
       "      <th></th>\n",
       "      <th></th>\n",
       "    </tr>\n",
       "  </thead>\n",
       "  <tbody>\n",
       "    <tr>\n",
       "      <th>NEGATIVE</th>\n",
       "      <td>16.0</td>\n",
       "      <td>0.971507</td>\n",
       "      <td>0.091869</td>\n",
       "      <td>0.628363</td>\n",
       "      <td>0.993244</td>\n",
       "      <td>0.998328</td>\n",
       "      <td>0.998713</td>\n",
       "      <td>0.999768</td>\n",
       "    </tr>\n",
       "    <tr>\n",
       "      <th>POSITIVE</th>\n",
       "      <td>4.0</td>\n",
       "      <td>0.928099</td>\n",
       "      <td>0.047171</td>\n",
       "      <td>0.875369</td>\n",
       "      <td>0.910065</td>\n",
       "      <td>0.923460</td>\n",
       "      <td>0.941494</td>\n",
       "      <td>0.990108</td>\n",
       "    </tr>\n",
       "  </tbody>\n",
       "</table>\n",
       "</div>"
      ],
      "text/plain": [
       "                   count      mean       std       min       25%       50%  \\\n",
       "patient_sentiment                                                            \n",
       "NEGATIVE            16.0  0.971507  0.091869  0.628363  0.993244  0.998328   \n",
       "POSITIVE             4.0  0.928099  0.047171  0.875369  0.910065  0.923460   \n",
       "\n",
       "                        75%       max  \n",
       "patient_sentiment                      \n",
       "NEGATIVE           0.998713  0.999768  \n",
       "POSITIVE           0.941494  0.990108  "
      ]
     },
     "execution_count": 71,
     "metadata": {},
     "output_type": "execute_result"
    }
   ],
   "source": [
    "# Group by sentiment and describe the probabilities\n",
    "mental_health.groupby('patient_sentiment')['patient_sentiment_prob'].describe()"
   ]
  },
  {
   "cell_type": "markdown",
   "metadata": {},
   "source": [
    "Almost all the patient comments are negatve, with 1 comment with lower prob of 62% which could be either + or -.\n",
    "\n",
    "Let's check with the texts. Run each cell bellow to randomly see different positive or negative comments"
   ]
  },
  {
   "cell_type": "code",
   "execution_count": 79,
   "metadata": {},
   "outputs": [
    {
     "name": "stdout",
     "output_type": "stream",
     "text": [
      "Positive comment:\n",
      "I have so many issues to address. I have a history of sexual abuse, I’m a breast cancer survivor and I am a lifetime insomniac.    I have a long history of depression and I’m beginning to have anxiety. I have low self esteem but I’ve been happily married for almost 35 years.\n",
      "   I’ve never had counseling about any of this. Do I have too many issues to address in counseling?\n"
     ]
    }
   ],
   "source": [
    "print(\"Positive comment:\")\n",
    "pos_c = mental_health.loc[mental_health['patient_sentiment'] == 'POSITIVE', ['patient_comment']].sample(1).values[0][0]\n",
    "print(pos_c)"
   ]
  },
  {
   "cell_type": "code",
   "execution_count": 80,
   "metadata": {},
   "outputs": [
    {
     "name": "stdout",
     "output_type": "stream",
     "text": [
      "Negative comment:\n",
      "My boyfriend is in Ireland for 11 days, and I am an emotional wreck.\n"
     ]
    }
   ],
   "source": [
    "\n",
    "print(\"Negative comment:\")\n",
    "neg_c = mental_health.loc[mental_health['patient_sentiment'] == 'NEGATIVE', ['patient_comment']].sample(1).values[0][0]\n",
    "print(neg_c)"
   ]
  },
  {
   "cell_type": "markdown",
   "metadata": {},
   "source": [
    "Maybe the positive comments are not that positive, so the model might not be capturing what we want. Maybe other models perform better?"
   ]
  },
  {
   "cell_type": "markdown",
   "metadata": {},
   "source": [
    "Now let's look at the psycologists responses"
   ]
  },
  {
   "cell_type": "code",
   "execution_count": 73,
   "metadata": {},
   "outputs": [
    {
     "data": {
      "application/vnd.jupyter.widget-view+json": {
       "model_id": "11bfd18f64554136984915f2ff420258",
       "version_major": 2,
       "version_minor": 0
      },
      "text/plain": [
       "  0%|          | 0/20 [00:00<?, ?it/s]"
      ]
     },
     "metadata": {},
     "output_type": "display_data"
    }
   ],
   "source": [
    "# keep the lenght of the comments to maximum 500 words\n",
    "def truncate_text(text, max_words=500):\n",
    "    words = text.split()\n",
    "    if len(words) > max_words:\n",
    "        return ' '.join(words[:max_words])\n",
    "    return text\n",
    "\n",
    "mental_health['psyc_response_short'] = mental_health['psyc_response'].progress_apply(lambda x: truncate_text(x, max_words=300))"
   ]
  },
  {
   "cell_type": "markdown",
   "metadata": {},
   "source": [
    "> Running the full lenght will result in a tensor error."
   ]
  },
  {
   "cell_type": "code",
   "execution_count": 74,
   "metadata": {},
   "outputs": [
    {
     "data": {
      "application/vnd.jupyter.widget-view+json": {
       "model_id": "e493e3fcdf9c415a9798c5fb9d4e6ac7",
       "version_major": 2,
       "version_minor": 0
      },
      "text/plain": [
       "  0%|          | 0/20 [00:00<?, ?it/s]"
      ]
     },
     "metadata": {},
     "output_type": "display_data"
    }
   ],
   "source": [
    "psyc_sentiment = mental_health['psyc_response_short'].progress_apply(lambda x: sentiment_pipeline(x))\n",
    "mental_health['psyc_sentiment'] = [x[0]['label'] for x in psyc_sentiment]\n",
    "mental_health['psyc_sentiment_prob'] = [x[0]['score'] for x in psyc_sentiment]"
   ]
  },
  {
   "cell_type": "code",
   "execution_count": 75,
   "metadata": {},
   "outputs": [
    {
     "data": {
      "text/plain": [
       "psyc_sentiment\n",
       "POSITIVE    11\n",
       "NEGATIVE     9\n",
       "Name: count, dtype: int64"
      ]
     },
     "execution_count": 75,
     "metadata": {},
     "output_type": "execute_result"
    }
   ],
   "source": [
    "mental_health['psyc_sentiment'].value_counts()"
   ]
  },
  {
   "cell_type": "markdown",
   "metadata": {},
   "source": [
    "The psycologists responses are like half and half"
   ]
  },
  {
   "cell_type": "code",
   "execution_count": 77,
   "metadata": {},
   "outputs": [
    {
     "data": {
      "text/html": [
       "<div>\n",
       "<style scoped>\n",
       "    .dataframe tbody tr th:only-of-type {\n",
       "        vertical-align: middle;\n",
       "    }\n",
       "\n",
       "    .dataframe tbody tr th {\n",
       "        vertical-align: top;\n",
       "    }\n",
       "\n",
       "    .dataframe thead th {\n",
       "        text-align: right;\n",
       "    }\n",
       "</style>\n",
       "<table border=\"1\" class=\"dataframe\">\n",
       "  <thead>\n",
       "    <tr style=\"text-align: right;\">\n",
       "      <th></th>\n",
       "      <th>count</th>\n",
       "      <th>mean</th>\n",
       "      <th>std</th>\n",
       "      <th>min</th>\n",
       "      <th>25%</th>\n",
       "      <th>50%</th>\n",
       "      <th>75%</th>\n",
       "      <th>max</th>\n",
       "    </tr>\n",
       "    <tr>\n",
       "      <th>psyc_sentiment</th>\n",
       "      <th></th>\n",
       "      <th></th>\n",
       "      <th></th>\n",
       "      <th></th>\n",
       "      <th></th>\n",
       "      <th></th>\n",
       "      <th></th>\n",
       "      <th></th>\n",
       "    </tr>\n",
       "  </thead>\n",
       "  <tbody>\n",
       "    <tr>\n",
       "      <th>NEGATIVE</th>\n",
       "      <td>9.0</td>\n",
       "      <td>0.890531</td>\n",
       "      <td>0.165725</td>\n",
       "      <td>0.51535</td>\n",
       "      <td>0.853117</td>\n",
       "      <td>0.976166</td>\n",
       "      <td>0.989951</td>\n",
       "      <td>0.999289</td>\n",
       "    </tr>\n",
       "    <tr>\n",
       "      <th>POSITIVE</th>\n",
       "      <td>11.0</td>\n",
       "      <td>0.928551</td>\n",
       "      <td>0.073609</td>\n",
       "      <td>0.78026</td>\n",
       "      <td>0.885392</td>\n",
       "      <td>0.968046</td>\n",
       "      <td>0.980113</td>\n",
       "      <td>0.997832</td>\n",
       "    </tr>\n",
       "  </tbody>\n",
       "</table>\n",
       "</div>"
      ],
      "text/plain": [
       "                count      mean       std      min       25%       50%  \\\n",
       "psyc_sentiment                                                           \n",
       "NEGATIVE          9.0  0.890531  0.165725  0.51535  0.853117  0.976166   \n",
       "POSITIVE         11.0  0.928551  0.073609  0.78026  0.885392  0.968046   \n",
       "\n",
       "                     75%       max  \n",
       "psyc_sentiment                      \n",
       "NEGATIVE        0.989951  0.999289  \n",
       "POSITIVE        0.980113  0.997832  "
      ]
     },
     "execution_count": 77,
     "metadata": {},
     "output_type": "execute_result"
    }
   ],
   "source": [
    "# Group by sentiment and describe the probabilities\n",
    "mental_health.groupby('psyc_sentiment')['psyc_sentiment_prob'].describe()"
   ]
  },
  {
   "cell_type": "markdown",
   "metadata": {},
   "source": [
    "With varying degree's of confidence with the min prob for negative is around 50% and for positive 80%."
   ]
  },
  {
   "cell_type": "code",
   "execution_count": 81,
   "metadata": {},
   "outputs": [
    {
     "name": "stdout",
     "output_type": "stream",
     "text": [
      "Positive response:\n",
      "You are very wise for a young person. You have already figured out that other people's behaviours...how they treat you...it's not about you...it's about them. I love that you don't blame yourself for your mom's behaviours. It's not your fault. She's getting upset because she doesn't know how to manage her emotions, and these emotions have to do with her past and her present stress. You're just the trigger. Yes, this is normal, but it's not necessary. She can find another way to manage her \"stuff\".Unfortunately, you can't help your mom a whole lot or even help her recognize this. But for yourself... remembering that her behaviours are her issue is the biggest piece of \"dealing with it\". You can always try some new strategies when you talk to mom...you can say \"I'll listen you better if you don't bring up past stuff\", or \"I'm worried about you mom. You seem stressed\", or even \"I don't like the way you talk to me\". Good luck!\n"
     ]
    }
   ],
   "source": [
    "print(\"Positive response:\")\n",
    "pos_c = mental_health.loc[mental_health['psyc_sentiment'] == 'POSITIVE', ['psyc_response_short']].sample(1).values[0][0]\n",
    "print(pos_c)"
   ]
  },
  {
   "cell_type": "code",
   "execution_count": 82,
   "metadata": {},
   "outputs": [
    {
     "name": "stdout",
     "output_type": "stream",
     "text": [
      "Negative response:\n",
      "Sounds as though your son is \"pissed off\" about something.Punishment will most likely result in more of the same, not less of the peeing you would like to stop from happening.\"Laziness\" is more of a social judgement than it is a characteristic of its own merit.Is this your description of your son or his description of himself?First step always before addressing any of the family dynamics, emotions, and psychology of the people involved, is a medical rule out as to why your son pees at times he plays video games.If he has medical clearance that there is no physiological  problem, then talk with your son on his opinions as to why he pees, if he is aware of the urge to pee and ignores it, or that his attention gets so absorbed he doesn't notice the urge to pee.See what modifications you can create by cooperating with your son.Maybe it is as simple as each two hours, he sets a timer and when it goes off, he takes a bathroom break.\n"
     ]
    }
   ],
   "source": [
    "print(\"Negative response:\")\n",
    "neg_c = mental_health.loc[mental_health['psyc_sentiment'] == 'NEGATIVE', ['psyc_response_short']].sample(1).values[0][0]\n",
    "print(neg_c)"
   ]
  },
  {
   "cell_type": "markdown",
   "metadata": {},
   "source": [
    "In the psycologist side, negative tone seems to be consistent because they address comments which are mostly negative"
   ]
  },
  {
   "cell_type": "markdown",
   "metadata": {},
   "source": [
    "## [DestilBERT Emotions](https://huggingface.co/bhadresh-savani/distilbert-base-uncased-emotion?text=I+feel+a+bit+let+down)\n",
    "\n",
    "This model now returns joy, sadness, anger, etc. which are more complex than just positive or negative sentiment."
   ]
  },
  {
   "cell_type": "code",
   "execution_count": 78,
   "metadata": {},
   "outputs": [
    {
     "name": "stderr",
     "output_type": "stream",
     "text": [
      "All PyTorch model weights were used when initializing TFDistilBertForSequenceClassification.\n",
      "\n",
      "All the weights of TFDistilBertForSequenceClassification were initialized from the PyTorch model.\n",
      "If your task is similar to the task the model of the checkpoint was trained on, you can already use TFDistilBertForSequenceClassification for predictions without further training.\n",
      "Device set to use 0\n"
     ]
    }
   ],
   "source": [
    "# Load the model\n",
    "emotions_pipeline = pipeline(model = \"bhadresh-savani/distilbert-base-uncased-emotion\")"
   ]
  },
  {
   "cell_type": "code",
   "execution_count": 83,
   "metadata": {},
   "outputs": [
    {
     "data": {
      "application/vnd.jupyter.widget-view+json": {
       "model_id": "1435adb199624289b22e4a7e8fb138ea",
       "version_major": 2,
       "version_minor": 0
      },
      "text/plain": [
       "  0%|          | 0/20 [00:00<?, ?it/s]"
      ]
     },
     "metadata": {},
     "output_type": "display_data"
    }
   ],
   "source": [
    "patients_emotions = mental_health['patient_comment'].progress_apply(lambda x: emotions_pipeline(x))"
   ]
  },
  {
   "cell_type": "code",
   "execution_count": 86,
   "metadata": {},
   "outputs": [
    {
     "data": {
      "text/plain": [
       "[{'label': 'sadness', 'score': 0.9906992316246033}]"
      ]
     },
     "execution_count": 86,
     "metadata": {},
     "output_type": "execute_result"
    }
   ],
   "source": [
    "patients_emotions.iloc[0]"
   ]
  },
  {
   "cell_type": "markdown",
   "metadata": {},
   "source": [
    "Same sort of output, just the label and the prob of said category being chosen."
   ]
  },
  {
   "cell_type": "code",
   "execution_count": 95,
   "metadata": {},
   "outputs": [],
   "source": [
    "mental_health['patient_emotion'] = [x[0]['label'] for x in patients_emotions]\n",
    "mental_health['patient_emotion_prob'] = [x[0]['score'] for x in patients_emotions]"
   ]
  },
  {
   "cell_type": "code",
   "execution_count": 96,
   "metadata": {},
   "outputs": [
    {
     "data": {
      "text/html": [
       "<div>\n",
       "<style scoped>\n",
       "    .dataframe tbody tr th:only-of-type {\n",
       "        vertical-align: middle;\n",
       "    }\n",
       "\n",
       "    .dataframe tbody tr th {\n",
       "        vertical-align: top;\n",
       "    }\n",
       "\n",
       "    .dataframe thead th {\n",
       "        text-align: right;\n",
       "    }\n",
       "</style>\n",
       "<table border=\"1\" class=\"dataframe\">\n",
       "  <thead>\n",
       "    <tr style=\"text-align: right;\">\n",
       "      <th></th>\n",
       "      <th>patient_comment</th>\n",
       "      <th>patient_emotion</th>\n",
       "      <th>patient_emotion_prob</th>\n",
       "    </tr>\n",
       "  </thead>\n",
       "  <tbody>\n",
       "    <tr>\n",
       "      <th>3296</th>\n",
       "      <td>My boyfriend is in Ireland for 11 days, and I ...</td>\n",
       "      <td>sadness</td>\n",
       "      <td>0.990699</td>\n",
       "    </tr>\n",
       "    <tr>\n",
       "      <th>2011</th>\n",
       "      <td>I have so many issues to address. I have a his...</td>\n",
       "      <td>joy</td>\n",
       "      <td>0.613567</td>\n",
       "    </tr>\n",
       "    <tr>\n",
       "      <th>1683</th>\n",
       "      <td>After 40 years of being straight, how could I ...</td>\n",
       "      <td>joy</td>\n",
       "      <td>0.399403</td>\n",
       "    </tr>\n",
       "    <tr>\n",
       "      <th>1560</th>\n",
       "      <td>I feel like I took our relationship for grante...</td>\n",
       "      <td>joy</td>\n",
       "      <td>0.986800</td>\n",
       "    </tr>\n",
       "    <tr>\n",
       "      <th>1267</th>\n",
       "      <td>I crave attention, companionship, and sex. She...</td>\n",
       "      <td>sadness</td>\n",
       "      <td>0.757707</td>\n",
       "    </tr>\n",
       "  </tbody>\n",
       "</table>\n",
       "</div>"
      ],
      "text/plain": [
       "                                        patient_comment patient_emotion  \\\n",
       "3296  My boyfriend is in Ireland for 11 days, and I ...         sadness   \n",
       "2011  I have so many issues to address. I have a his...             joy   \n",
       "1683  After 40 years of being straight, how could I ...             joy   \n",
       "1560  I feel like I took our relationship for grante...             joy   \n",
       "1267  I crave attention, companionship, and sex. She...         sadness   \n",
       "\n",
       "      patient_emotion_prob  \n",
       "3296              0.990699  \n",
       "2011              0.613567  \n",
       "1683              0.399403  \n",
       "1560              0.986800  \n",
       "1267              0.757707  "
      ]
     },
     "execution_count": 96,
     "metadata": {},
     "output_type": "execute_result"
    }
   ],
   "source": [
    "mental_health[['patient_comment','patient_emotion','patient_emotion_prob']].head()"
   ]
  },
  {
   "cell_type": "code",
   "execution_count": 97,
   "metadata": {},
   "outputs": [
    {
     "data": {
      "text/plain": [
       "patient_emotion\n",
       "sadness    6\n",
       "anger      6\n",
       "joy        5\n",
       "fear       3\n",
       "Name: count, dtype: int64"
      ]
     },
     "execution_count": 97,
     "metadata": {},
     "output_type": "execute_result"
    }
   ],
   "source": [
    "mental_health['patient_emotion'].value_counts()"
   ]
  },
  {
   "cell_type": "markdown",
   "metadata": {},
   "source": [
    "Patient emotions seems to be consistent with sadness and anger dominating. However, why do we have some joy?"
   ]
  },
  {
   "cell_type": "code",
   "execution_count": 110,
   "metadata": {},
   "outputs": [
    {
     "name": "stdout",
     "output_type": "stream",
     "text": [
      "Joy comments?:\n",
      "prob: 0.553688645362854\n",
      "I always feel the need to impress people, whether it's my family, the people at school, or just random people. I know that no matter what I do or how I change, there will always be some people who hate me.  Why do I feel this way?\n"
     ]
    }
   ],
   "source": [
    "print(\"Joy comments?:\")\n",
    "pos_c = mental_health.loc[mental_health['patient_emotion'] == 'joy', ['patient_comment','patient_emotion_prob']].sample(1)\n",
    "print(\"prob:\",pos_c['patient_emotion_prob'].values[0])\n",
    "print(pos_c['patient_comment'].values[0])"
   ]
  },
  {
   "cell_type": "markdown",
   "metadata": {},
   "source": [
    "They seems to have low probability, so maybe we are mis-identifying some other emotion.\n",
    "> To get the probs of all labels you might need to look at each model and see if they report or extract it in some way"
   ]
  }
 ],
 "metadata": {
  "kernelspec": {
   "display_name": ".venv",
   "language": "python",
   "name": "python3"
  },
  "language_info": {
   "codemirror_mode": {
    "name": "ipython",
    "version": 3
   },
   "file_extension": ".py",
   "mimetype": "text/x-python",
   "name": "python",
   "nbconvert_exporter": "python",
   "pygments_lexer": "ipython3",
   "version": "3.11.6"
  }
 },
 "nbformat": 4,
 "nbformat_minor": 2
}
