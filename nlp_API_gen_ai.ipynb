{
 "cells": [
  {
   "cell_type": "code",
   "execution_count": null,
   "metadata": {},
   "outputs": [],
   "source": [
    "from pydantic import BaseModel\n",
    "from openai import OpenAI  # OpenAI API\n",
    "from dotenv import load_dotenv  # Load the API keys from .env\n",
    "import json\n",
    "import os\n",
    "\n",
    "from tqdm.auto import tqdm\n",
    "import pandas as pd\n",
    "\n",
    "tqdm.pandas()  # activate the tqdm for pandas\n"
   ]
  },
  {
   "cell_type": "code",
   "execution_count": null,
   "metadata": {},
   "outputs": [
    {
     "name": "stdout",
     "output_type": "stream",
     "text": [
      "OPENAI_API_KEY loaded\n"
     ]
    }
   ],
   "source": [
    "# now we want to load the API keys from the .env file\n",
    "load_dotenv(\".env\")\n",
    "\n",
    "# check that we have the needed keys\n",
    "for api_key in [\"OPENAI_API_KEY\"]:\n",
    "    if os.getenv(api_key) is not None:\n",
    "        print(api_key, \"loaded\")\n",
    "    else:\n",
    "        print(api_key, \"missing\")\n",
    "        print(\"Please create a .env file with the corresponding API key\")"
   ]
  },
  {
   "cell_type": "markdown",
   "metadata": {},
   "source": [
    "# OpenAI's API calls\n",
    "\n",
    "We first need to initialize the OpenAI client.\n",
    "\n",
    "> If the code bellow doesn't work, make sure that the `OPEN_AI_KEY` is loaded"
   ]
  },
  {
   "cell_type": "code",
   "execution_count": 3,
   "metadata": {},
   "outputs": [],
   "source": [
    "openai_client = OpenAI();"
   ]
  },
  {
   "cell_type": "markdown",
   "metadata": {},
   "source": [
    "We will use the cheapest model `gpt-4o-mini` for all the following codes\n",
    "\n",
    "The messages is the main input of the API. Think of it as the chatbox. `system` messages you can think of as the general instructions, while the `prompt` is the input for those instructions."
   ]
  },
  {
   "cell_type": "code",
   "execution_count": null,
   "metadata": {},
   "outputs": [],
   "source": [
    "msg = [\n",
    "    {\n",
    "        \"role\": \"system\",\n",
    "        \"content\": \"Write me a poam about the topic of the following text. It should be a short poem, no more than 4 lines. The poem should be in the style of a haiku. The text is: \",\n",
    "    },\n",
    "    {\"role\": \"user\", \"content\": \"crossfit\"},\n",
    "]"
   ]
  },
  {
   "cell_type": "code",
   "execution_count": null,
   "metadata": {},
   "outputs": [],
   "source": [
    "completion = openai_client.chat.completions.create(\n",
    "    model=\"gpt-4.1-mini\",  # specify the model or even gpt-4.1-nano  o gpt-4o-mini\n",
    "    messages=msg,\n",
    ")"
   ]
  },
  {
   "cell_type": "code",
   "execution_count": 14,
   "metadata": {},
   "outputs": [
    {
     "data": {
      "text/plain": [
       "ChatCompletion(id='chatcmpl-Ba94aD2KJn7R1AWHXPildqQ0E9TC4', choices=[Choice(finish_reason='stop', index=0, logprobs=None, message=ChatCompletionMessage(content='Iron calls our names,  \\nWOD whispers in cold dawn—  \\nStrength forged, roots deepen.', refusal=None, role='assistant', annotations=[], audio=None, function_call=None, tool_calls=None))], created=1747954384, model='gpt-4.1-mini-2025-04-14', object='chat.completion', service_tier='default', system_fingerprint='fp_79b79be41f', usage=CompletionUsage(completion_tokens=20, prompt_tokens=58, total_tokens=78, completion_tokens_details=CompletionTokensDetails(accepted_prediction_tokens=0, audio_tokens=0, reasoning_tokens=0, rejected_prediction_tokens=0), prompt_tokens_details=PromptTokensDetails(audio_tokens=0, cached_tokens=0)))"
      ]
     },
     "execution_count": 14,
     "metadata": {},
     "output_type": "execute_result"
    }
   ],
   "source": [
    "completion"
   ]
  },
  {
   "cell_type": "markdown",
   "metadata": {},
   "source": [
    "The variable `completion` will now return with a bunch of data inside (for more detaisl please visit [OpenAI's documentation](https://platform.openai.com/docs/concepts)). \n",
    "\n",
    "To get to the text output:"
   ]
  },
  {
   "cell_type": "code",
   "execution_count": 15,
   "metadata": {},
   "outputs": [
    {
     "name": "stdout",
     "output_type": "stream",
     "text": [
      "Iron calls our names,  \n",
      "WOD whispers in cold dawn—  \n",
      "Strength forged, roots deepen.\n"
     ]
    }
   ],
   "source": [
    "poem = completion.choices[0].message.content\n",
    "print(poem)"
   ]
  },
  {
   "cell_type": "markdown",
   "metadata": {},
   "source": [
    "You can also get back a `pydantic` type from the [structured outputs](https://platform.openai.com/docs/guides/structured-outputs?api-mode=responses#page-top). For this we have to define some structure for our outputs:"
   ]
  },
  {
   "cell_type": "code",
   "execution_count": null,
   "metadata": {},
   "outputs": [],
   "source": [
    "class Poem(BaseModel):\n",
    "    title: str\n",
    "    poem: str\n",
    "    sad: bool  # potentially define as int from 1-10"
   ]
  },
  {
   "cell_type": "markdown",
   "metadata": {},
   "source": [
    "I will change the `msg` so that it also tells me if the poem is sad or not. For this, I added a line `sad` and it can take the values True or False."
   ]
  },
  {
   "cell_type": "code",
   "execution_count": null,
   "metadata": {},
   "outputs": [],
   "source": [
    "msg = [\n",
    "    {\n",
    "        \"role\": \"system\",\n",
    "        \"content\": \"Write me a poam about the topic of the following text. It should be a short poem, no more than 4 lines. The poem should be in the style of a haiku. Please also tell me if you think the poem is sad or not and create a title for the poem. The text is: \",\n",
    "    },\n",
    "    {\"role\": \"user\", \"content\": \"crossfit\"},\n",
    "]"
   ]
  },
  {
   "cell_type": "code",
   "execution_count": null,
   "metadata": {},
   "outputs": [],
   "source": [
    "completion = openai_client.beta.chat.completions.parse(\n",
    "    model=\"gpt-4.1-nano\",\n",
    "    messages=msg,\n",
    "    max_completion_tokens=1024 * 6,  # this sets the max of tokens it can return\n",
    "    # remember that API calls take money from tokens, so more token more expensive\n",
    "    response_format=Poem,  # this is the response format we want to get defined before\n",
    ")"
   ]
  },
  {
   "cell_type": "code",
   "execution_count": 19,
   "metadata": {},
   "outputs": [
    {
     "data": {
      "text/plain": [
       "Poem(title='Crossfit Echo', poem='Grains of sweat fall,\\nStrength blooms in tired dawns,\\nRise, conquer, repeat.', sad=False)"
      ]
     },
     "execution_count": 19,
     "metadata": {},
     "output_type": "execute_result"
    }
   ],
   "source": [
    "# Get the strutured object\n",
    "out = completion.choices[0].message.parsed\n",
    "out"
   ]
  },
  {
   "cell_type": "code",
   "execution_count": 20,
   "metadata": {},
   "outputs": [
    {
     "data": {
      "text/plain": [
       "{'title': 'Crossfit Echo',\n",
       " 'poem': 'Grains of sweat fall,\\nStrength blooms in tired dawns,\\nRise, conquer, repeat.',\n",
       " 'sad': False}"
      ]
     },
     "execution_count": 20,
     "metadata": {},
     "output_type": "execute_result"
    }
   ],
   "source": [
    "# you can turn the obejct into a dict / json\n",
    "out.model_dump()"
   ]
  },
  {
   "cell_type": "code",
   "execution_count": null,
   "metadata": {},
   "outputs": [
    {
     "data": {
      "text/plain": [
       "'Crossfit Echo'"
      ]
     },
     "execution_count": 21,
     "metadata": {},
     "output_type": "execute_result"
    }
   ],
   "source": [
    "out.model_dump()[\"title\"]"
   ]
  },
  {
   "cell_type": "code",
   "execution_count": null,
   "metadata": {},
   "outputs": [
    {
     "name": "stdout",
     "output_type": "stream",
     "text": [
      "Counting finite gains,\n",
      "Econ’s endless quest for truth,\n",
      "Knowledge fuels the mind.\n"
     ]
    }
   ],
   "source": [
    "print(out.model_dump()[\"poem\"])"
   ]
  },
  {
   "cell_type": "code",
   "execution_count": 21,
   "metadata": {},
   "outputs": [
    {
     "data": {
      "text/plain": [
       "'{\"title\":\"Future\\'s Gamble\",\"poem\":\"Graphs and dreams collide,\\\\nNumbers whisper in the night,\\\\nChasing fortune\\'s light,\\\\nHope and toil abide.\",\"sad\":false}'"
      ]
     },
     "execution_count": 21,
     "metadata": {},
     "output_type": "execute_result"
    }
   ],
   "source": [
    "# you can turn the obejct into a dict / json\n",
    "out.model_dump_json()"
   ]
  },
  {
   "cell_type": "markdown",
   "metadata": {},
   "source": [
    "## Using data\n",
    "\n",
    "I have a dataset of the responses of psycologists to comments from patients from [Kaggle](https://www.kaggle.com/datasets/thedevastator/nlp-mental-health-conversations?resource=download)\n",
    "\n",
    "I want to use the generative AI to clasify the comments of the psycologist as appropiate or not"
   ]
  },
  {
   "cell_type": "code",
   "execution_count": 22,
   "metadata": {},
   "outputs": [
    {
     "data": {
      "text/html": [
       "<div>\n",
       "<style scoped>\n",
       "    .dataframe tbody tr th:only-of-type {\n",
       "        vertical-align: middle;\n",
       "    }\n",
       "\n",
       "    .dataframe tbody tr th {\n",
       "        vertical-align: top;\n",
       "    }\n",
       "\n",
       "    .dataframe thead th {\n",
       "        text-align: right;\n",
       "    }\n",
       "</style>\n",
       "<table border=\"1\" class=\"dataframe\">\n",
       "  <thead>\n",
       "    <tr style=\"text-align: right;\">\n",
       "      <th></th>\n",
       "      <th>Comment</th>\n",
       "      <th>Response</th>\n",
       "    </tr>\n",
       "  </thead>\n",
       "  <tbody>\n",
       "    <tr>\n",
       "      <th>3296</th>\n",
       "      <td>My boyfriend is in Ireland for 11 days, and I ...</td>\n",
       "      <td>It sounds like you and your boyfriend are very...</td>\n",
       "    </tr>\n",
       "    <tr>\n",
       "      <th>2011</th>\n",
       "      <td>I have so many issues to address. I have a his...</td>\n",
       "      <td>I think this is a very common question that pe...</td>\n",
       "    </tr>\n",
       "    <tr>\n",
       "      <th>1683</th>\n",
       "      <td>After 40 years of being straight, how could I ...</td>\n",
       "      <td>Sexuality is normally formed during adolescenc...</td>\n",
       "    </tr>\n",
       "    <tr>\n",
       "      <th>1560</th>\n",
       "      <td>I feel like I took our relationship for grante...</td>\n",
       "      <td>A key factor in a relationship is trust.I'd st...</td>\n",
       "    </tr>\n",
       "    <tr>\n",
       "      <th>1267</th>\n",
       "      <td>I crave attention, companionship, and sex. She...</td>\n",
       "      <td>Hi Hampton,Although I'd bet your wife also wan...</td>\n",
       "    </tr>\n",
       "    <tr>\n",
       "      <th>2895</th>\n",
       "      <td>He said he would try and he never did. It's be...</td>\n",
       "      <td>If your husband is changing his mind about whe...</td>\n",
       "    </tr>\n",
       "    <tr>\n",
       "      <th>2697</th>\n",
       "      <td>I always feel the need to impress people, whet...</td>\n",
       "      <td>It is normal to seek other’s attention and not...</td>\n",
       "    </tr>\n",
       "    <tr>\n",
       "      <th>1042</th>\n",
       "      <td>We're in an eight year relationship. My boyfri...</td>\n",
       "      <td>First, let me extend my compassion to both of ...</td>\n",
       "    </tr>\n",
       "    <tr>\n",
       "      <th>3312</th>\n",
       "      <td>I've gone to a couple therapy sessions so far ...</td>\n",
       "      <td>Yes, it is completely normal to feel anxious a...</td>\n",
       "    </tr>\n",
       "    <tr>\n",
       "      <th>2788</th>\n",
       "      <td>He is an adolescent. He has peed his pant mult...</td>\n",
       "      <td>Sounds as though your son is \"pissed off\" abou...</td>\n",
       "    </tr>\n",
       "    <tr>\n",
       "      <th>606</th>\n",
       "      <td>I'm being verbally abused on a daily basis by ...</td>\n",
       "      <td>I am so sorry this is happening to you.  One t...</td>\n",
       "    </tr>\n",
       "    <tr>\n",
       "      <th>1443</th>\n",
       "      <td>I am always arguing with my father. He gets st...</td>\n",
       "      <td>Thanks for the question. Regardless of whether...</td>\n",
       "    </tr>\n",
       "    <tr>\n",
       "      <th>2576</th>\n",
       "      <td>As a child, my parents injured my brother, so ...</td>\n",
       "      <td>Sorry to hear of having witnessed violence wit...</td>\n",
       "    </tr>\n",
       "    <tr>\n",
       "      <th>1078</th>\n",
       "      <td>I've pretty much been on my own since day one,...</td>\n",
       "      <td>One way to concentrate is that if your mind st...</td>\n",
       "    </tr>\n",
       "    <tr>\n",
       "      <th>1948</th>\n",
       "      <td>Is it normal for people to cry during therapy,...</td>\n",
       "      <td>Yes, it's totally normal! Crying is a part of ...</td>\n",
       "    </tr>\n",
       "    <tr>\n",
       "      <th>73</th>\n",
       "      <td>I’m facing severe depression and anxiety and I...</td>\n",
       "      <td>Working with a great therapist who can help yo...</td>\n",
       "    </tr>\n",
       "    <tr>\n",
       "      <th>2687</th>\n",
       "      <td>It happens especially at me and my sister, and...</td>\n",
       "      <td>You are very wise for a young person. You have...</td>\n",
       "    </tr>\n",
       "    <tr>\n",
       "      <th>1606</th>\n",
       "      <td>I am currently suffering from erectile dysfunc...</td>\n",
       "      <td>Hi, First and foremost, I want to acknowledge ...</td>\n",
       "    </tr>\n",
       "    <tr>\n",
       "      <th>266</th>\n",
       "      <td>I am not sure if I am depressed. I don't know ...</td>\n",
       "      <td>I am so sorry you are struggling!  I do think ...</td>\n",
       "    </tr>\n",
       "    <tr>\n",
       "      <th>1501</th>\n",
       "      <td>I've been bulimic for about 6 years now. I'm i...</td>\n",
       "      <td>Eating disorders usually result from a sense o...</td>\n",
       "    </tr>\n",
       "  </tbody>\n",
       "</table>\n",
       "</div>"
      ],
      "text/plain": [
       "                                                Comment  \\\n",
       "3296  My boyfriend is in Ireland for 11 days, and I ...   \n",
       "2011  I have so many issues to address. I have a his...   \n",
       "1683  After 40 years of being straight, how could I ...   \n",
       "1560  I feel like I took our relationship for grante...   \n",
       "1267  I crave attention, companionship, and sex. She...   \n",
       "2895  He said he would try and he never did. It's be...   \n",
       "2697  I always feel the need to impress people, whet...   \n",
       "1042  We're in an eight year relationship. My boyfri...   \n",
       "3312  I've gone to a couple therapy sessions so far ...   \n",
       "2788  He is an adolescent. He has peed his pant mult...   \n",
       "606   I'm being verbally abused on a daily basis by ...   \n",
       "1443  I am always arguing with my father. He gets st...   \n",
       "2576  As a child, my parents injured my brother, so ...   \n",
       "1078  I've pretty much been on my own since day one,...   \n",
       "1948  Is it normal for people to cry during therapy,...   \n",
       "73    I’m facing severe depression and anxiety and I...   \n",
       "2687  It happens especially at me and my sister, and...   \n",
       "1606  I am currently suffering from erectile dysfunc...   \n",
       "266   I am not sure if I am depressed. I don't know ...   \n",
       "1501  I've been bulimic for about 6 years now. I'm i...   \n",
       "\n",
       "                                               Response  \n",
       "3296  It sounds like you and your boyfriend are very...  \n",
       "2011  I think this is a very common question that pe...  \n",
       "1683  Sexuality is normally formed during adolescenc...  \n",
       "1560  A key factor in a relationship is trust.I'd st...  \n",
       "1267  Hi Hampton,Although I'd bet your wife also wan...  \n",
       "2895  If your husband is changing his mind about whe...  \n",
       "2697  It is normal to seek other’s attention and not...  \n",
       "1042  First, let me extend my compassion to both of ...  \n",
       "3312  Yes, it is completely normal to feel anxious a...  \n",
       "2788  Sounds as though your son is \"pissed off\" abou...  \n",
       "606   I am so sorry this is happening to you.  One t...  \n",
       "1443  Thanks for the question. Regardless of whether...  \n",
       "2576  Sorry to hear of having witnessed violence wit...  \n",
       "1078  One way to concentrate is that if your mind st...  \n",
       "1948  Yes, it's totally normal! Crying is a part of ...  \n",
       "73    Working with a great therapist who can help yo...  \n",
       "2687  You are very wise for a young person. You have...  \n",
       "1606  Hi, First and foremost, I want to acknowledge ...  \n",
       "266   I am so sorry you are struggling!  I do think ...  \n",
       "1501  Eating disorders usually result from a sense o...  "
      ]
     },
     "execution_count": 22,
     "metadata": {},
     "output_type": "execute_result"
    }
   ],
   "source": [
    "mental_health = pd.read_csv(\"data/mental_health.csv\")\n",
    "mental_health.rename(columns={\"Context\": \"Comment\"}, inplace=True)\n",
    "mental_health.dropna(inplace=True)\n",
    "\n",
    "# take a sample of 20 responses\n",
    "mental_health = mental_health.sample(20, random_state=1337)\n",
    "mental_health"
   ]
  },
  {
   "cell_type": "code",
   "execution_count": null,
   "metadata": {},
   "outputs": [],
   "source": [
    "def create_msg(row):\n",
    "    msg = [\n",
    "        {\n",
    "            \"role\": \"system\",\n",
    "            \"content\": \"Read the folling comversation between two people. The first person a patient and the second one is a mental health professional. Please rate from 1-5 how appropiate you think is the response of the mental health professional. 1 is not appropiate at all and 5 is very appropiate. Please specify your definition of appropiate. Please provide a confidence level of your rating from 50 (uncertain) to 100 (certain) and show your logical thinking as 'cot' \",\n",
    "        },\n",
    "        {\n",
    "            \"role\": \"user\",\n",
    "            \"content\": \"Patient: \"\n",
    "            + row[\"Comment\"]\n",
    "            + \"\\n Mental Health Professional: \"\n",
    "            + row[\"Response\"]\n",
    "            + \"\\n\",\n",
    "        },\n",
    "    ]\n",
    "    return msg"
   ]
  },
  {
   "cell_type": "code",
   "execution_count": null,
   "metadata": {},
   "outputs": [
    {
     "data": {
      "application/vnd.jupyter.widget-view+json": {
       "model_id": "42523dd88cc24a2f9b85abd2684cde21",
       "version_major": 2,
       "version_minor": 0
      },
      "text/plain": [
       "  0%|          | 0/20 [00:00<?, ?it/s]"
      ]
     },
     "metadata": {},
     "output_type": "display_data"
    }
   ],
   "source": [
    "mental_health[\"msg\"] = mental_health.progress_apply(create_msg, axis=1)"
   ]
  },
  {
   "cell_type": "code",
   "execution_count": 25,
   "metadata": {},
   "outputs": [],
   "source": [
    "class Response(BaseModel):\n",
    "    rating: int\n",
    "    confidence: int\n",
    "    definition: str\n",
    "    cot: list[str]"
   ]
  },
  {
   "cell_type": "code",
   "execution_count": null,
   "metadata": {},
   "outputs": [],
   "source": [
    "def structured_API_call(msg):\n",
    "    completion = openai_client.beta.chat.completions.parse(\n",
    "        model=\"gpt-4o-mini\",\n",
    "        messages=msg,\n",
    "        max_completion_tokens=1024 * 6,  # Most likely will need this high for the cot\n",
    "        response_format=Response,  # this is the response format we want to get defined before\n",
    "    )\n",
    "\n",
    "    return completion.choices[0].message.parsed"
   ]
  },
  {
   "cell_type": "code",
   "execution_count": null,
   "metadata": {},
   "outputs": [
    {
     "data": {
      "application/vnd.jupyter.widget-view+json": {
       "model_id": "b6e89eb7088146469ffa5e01d9c743dc",
       "version_major": 2,
       "version_minor": 0
      },
      "text/plain": [
       "  0%|          | 0/20 [00:00<?, ?it/s]"
      ]
     },
     "metadata": {},
     "output_type": "display_data"
    }
   ],
   "source": [
    "answers = mental_health[\"msg\"].progress_apply(structured_API_call)"
   ]
  },
  {
   "cell_type": "code",
   "execution_count": 28,
   "metadata": {},
   "outputs": [
    {
     "data": {
      "text/plain": [
       "3296    rating=4 confidence=85 definition=\"Appropriate...\n",
       "2011    rating=5 confidence=95 definition=\"Appropriate...\n",
       "1683    rating=3 confidence=80 definition=\"I define ap...\n",
       "1560    rating=4 confidence=85 definition='Appropriate...\n",
       "1267    rating=5 confidence=90 definition=\"Appropriate...\n",
       "2895    rating=4 confidence=85 definition='I define ap...\n",
       "2697    rating=4 confidence=85 definition='An appropri...\n",
       "1042    rating=5 confidence=90 definition='Appropriate...\n",
       "3312    rating=5 confidence=90 definition=\"Appropriate...\n",
       "2788    rating=4 confidence=85 definition=\"Appropriate...\n",
       "606     rating=4 confidence=90 definition=\"Appropriate...\n",
       "1443    rating=5 confidence=90 definition=\"Appropriate...\n",
       "2576    rating=4 confidence=85 definition=\"Appropriate...\n",
       "1078    rating=1 confidence=70 definition=\"The appropr...\n",
       "1948    rating=5 confidence=90 definition=\"Appropriate...\n",
       "73      rating=5 confidence=90 definition='Appropriate...\n",
       "2687    rating=4 confidence=85 definition='Appropriate...\n",
       "1606    rating=5 confidence=95 definition=\"Appropriate...\n",
       "266     rating=5 confidence=90 definition='Appropriate...\n",
       "1501    rating=2 confidence=70 definition=\"Appropriate...\n",
       "Name: msg, dtype: object"
      ]
     },
     "execution_count": 28,
     "metadata": {},
     "output_type": "execute_result"
    }
   ],
   "source": [
    "answers"
   ]
  },
  {
   "cell_type": "code",
   "execution_count": null,
   "metadata": {},
   "outputs": [],
   "source": [
    "ratings = [obj.rating for obj in answers]\n",
    "confidence = [obj.confidence for obj in answers]\n",
    "definition = [obj.definition for obj in answers]\n",
    "cot = [obj.cot for obj in answers]\n",
    "\n",
    "mental_health[\"rating\"] = ratings\n",
    "mental_health[\"confidence\"] = confidence\n",
    "mental_health[\"definition\"] = definition\n",
    "mental_health[\"cot\"] = cot"
   ]
  },
  {
   "cell_type": "code",
   "execution_count": 30,
   "metadata": {},
   "outputs": [
    {
     "data": {
      "text/html": [
       "<div>\n",
       "<style scoped>\n",
       "    .dataframe tbody tr th:only-of-type {\n",
       "        vertical-align: middle;\n",
       "    }\n",
       "\n",
       "    .dataframe tbody tr th {\n",
       "        vertical-align: top;\n",
       "    }\n",
       "\n",
       "    .dataframe thead th {\n",
       "        text-align: right;\n",
       "    }\n",
       "</style>\n",
       "<table border=\"1\" class=\"dataframe\">\n",
       "  <thead>\n",
       "    <tr style=\"text-align: right;\">\n",
       "      <th></th>\n",
       "      <th>Comment</th>\n",
       "      <th>Response</th>\n",
       "      <th>msg</th>\n",
       "      <th>rating</th>\n",
       "      <th>confidence</th>\n",
       "      <th>definition</th>\n",
       "      <th>cot</th>\n",
       "    </tr>\n",
       "  </thead>\n",
       "  <tbody>\n",
       "    <tr>\n",
       "      <th>3296</th>\n",
       "      <td>My boyfriend is in Ireland for 11 days, and I ...</td>\n",
       "      <td>It sounds like you and your boyfriend are very...</td>\n",
       "      <td>[{'role': 'system', 'content': 'Read the folli...</td>\n",
       "      <td>4</td>\n",
       "      <td>85</td>\n",
       "      <td>Appropriate responses in a therapeutic context...</td>\n",
       "      <td>[The mental health professional acknowledges t...</td>\n",
       "    </tr>\n",
       "    <tr>\n",
       "      <th>2011</th>\n",
       "      <td>I have so many issues to address. I have a his...</td>\n",
       "      <td>I think this is a very common question that pe...</td>\n",
       "      <td>[{'role': 'system', 'content': 'Read the folli...</td>\n",
       "      <td>5</td>\n",
       "      <td>95</td>\n",
       "      <td>Appropriate responses from mental health profe...</td>\n",
       "      <td>[The mental health professional validates the ...</td>\n",
       "    </tr>\n",
       "    <tr>\n",
       "      <th>1683</th>\n",
       "      <td>After 40 years of being straight, how could I ...</td>\n",
       "      <td>Sexuality is normally formed during adolescenc...</td>\n",
       "      <td>[{'role': 'system', 'content': 'Read the folli...</td>\n",
       "      <td>3</td>\n",
       "      <td>80</td>\n",
       "      <td>I define appropriate as a response that is res...</td>\n",
       "      <td>[The mental health professional provides an in...</td>\n",
       "    </tr>\n",
       "    <tr>\n",
       "      <th>1560</th>\n",
       "      <td>I feel like I took our relationship for grante...</td>\n",
       "      <td>A key factor in a relationship is trust.I'd st...</td>\n",
       "      <td>[{'role': 'system', 'content': 'Read the folli...</td>\n",
       "      <td>4</td>\n",
       "      <td>85</td>\n",
       "      <td>Appropriate refers to the relevance and helpfu...</td>\n",
       "      <td>[The mental health professional acknowledges a...</td>\n",
       "    </tr>\n",
       "    <tr>\n",
       "      <th>1267</th>\n",
       "      <td>I crave attention, companionship, and sex. She...</td>\n",
       "      <td>Hi Hampton,Although I'd bet your wife also wan...</td>\n",
       "      <td>[{'role': 'system', 'content': 'Read the folli...</td>\n",
       "      <td>5</td>\n",
       "      <td>90</td>\n",
       "      <td>Appropriate responses from mental health profe...</td>\n",
       "      <td>[The mental health professional starts by ackn...</td>\n",
       "    </tr>\n",
       "    <tr>\n",
       "      <th>2895</th>\n",
       "      <td>He said he would try and he never did. It's be...</td>\n",
       "      <td>If your husband is changing his mind about whe...</td>\n",
       "      <td>[{'role': 'system', 'content': 'Read the folli...</td>\n",
       "      <td>4</td>\n",
       "      <td>85</td>\n",
       "      <td>I define appropriate responses as those that p...</td>\n",
       "      <td>[The mental health professional acknowledges t...</td>\n",
       "    </tr>\n",
       "    <tr>\n",
       "      <th>2697</th>\n",
       "      <td>I always feel the need to impress people, whet...</td>\n",
       "      <td>It is normal to seek other’s attention and not...</td>\n",
       "      <td>[{'role': 'system', 'content': 'Read the folli...</td>\n",
       "      <td>4</td>\n",
       "      <td>85</td>\n",
       "      <td>An appropriate response in a therapeutic conte...</td>\n",
       "      <td>[The mental health professional starts by norm...</td>\n",
       "    </tr>\n",
       "    <tr>\n",
       "      <th>1042</th>\n",
       "      <td>We're in an eight year relationship. My boyfri...</td>\n",
       "      <td>First, let me extend my compassion to both of ...</td>\n",
       "      <td>[{'role': 'system', 'content': 'Read the folli...</td>\n",
       "      <td>5</td>\n",
       "      <td>90</td>\n",
       "      <td>Appropriate responses are those that show unde...</td>\n",
       "      <td>[The mental health professional begins with co...</td>\n",
       "    </tr>\n",
       "    <tr>\n",
       "      <th>3312</th>\n",
       "      <td>I've gone to a couple therapy sessions so far ...</td>\n",
       "      <td>Yes, it is completely normal to feel anxious a...</td>\n",
       "      <td>[{'role': 'system', 'content': 'Read the folli...</td>\n",
       "      <td>5</td>\n",
       "      <td>90</td>\n",
       "      <td>Appropriateness in this context means respondi...</td>\n",
       "      <td>[The mental health professional acknowledged t...</td>\n",
       "    </tr>\n",
       "    <tr>\n",
       "      <th>2788</th>\n",
       "      <td>He is an adolescent. He has peed his pant mult...</td>\n",
       "      <td>Sounds as though your son is \"pissed off\" abou...</td>\n",
       "      <td>[{'role': 'system', 'content': 'Read the folli...</td>\n",
       "      <td>4</td>\n",
       "      <td>85</td>\n",
       "      <td>Appropriate responses are those that demonstra...</td>\n",
       "      <td>[The mental health professional begins by empa...</td>\n",
       "    </tr>\n",
       "    <tr>\n",
       "      <th>606</th>\n",
       "      <td>I'm being verbally abused on a daily basis by ...</td>\n",
       "      <td>I am so sorry this is happening to you.  One t...</td>\n",
       "      <td>[{'role': 'system', 'content': 'Read the folli...</td>\n",
       "      <td>4</td>\n",
       "      <td>90</td>\n",
       "      <td>Appropriate responses from mental health profe...</td>\n",
       "      <td>[The mental health professional starts with an...</td>\n",
       "    </tr>\n",
       "    <tr>\n",
       "      <th>1443</th>\n",
       "      <td>I am always arguing with my father. He gets st...</td>\n",
       "      <td>Thanks for the question. Regardless of whether...</td>\n",
       "      <td>[{'role': 'system', 'content': 'Read the folli...</td>\n",
       "      <td>5</td>\n",
       "      <td>90</td>\n",
       "      <td>Appropriate responses provide constructive adv...</td>\n",
       "      <td>[The mental health professional validates the ...</td>\n",
       "    </tr>\n",
       "    <tr>\n",
       "      <th>2576</th>\n",
       "      <td>As a child, my parents injured my brother, so ...</td>\n",
       "      <td>Sorry to hear of having witnessed violence wit...</td>\n",
       "      <td>[{'role': 'system', 'content': 'Read the folli...</td>\n",
       "      <td>4</td>\n",
       "      <td>85</td>\n",
       "      <td>Appropriateness in this context refers to the ...</td>\n",
       "      <td>[The mental health professional acknowledges t...</td>\n",
       "    </tr>\n",
       "    <tr>\n",
       "      <th>1078</th>\n",
       "      <td>I've pretty much been on my own since day one,...</td>\n",
       "      <td>One way to concentrate is that if your mind st...</td>\n",
       "      <td>[{'role': 'system', 'content': 'Read the folli...</td>\n",
       "      <td>1</td>\n",
       "      <td>70</td>\n",
       "      <td>The appropriateness of a mental health profess...</td>\n",
       "      <td>[The patient expresses feelings of isolation a...</td>\n",
       "    </tr>\n",
       "    <tr>\n",
       "      <th>1948</th>\n",
       "      <td>Is it normal for people to cry during therapy,...</td>\n",
       "      <td>Yes, it's totally normal! Crying is a part of ...</td>\n",
       "      <td>[{'role': 'system', 'content': 'Read the folli...</td>\n",
       "      <td>5</td>\n",
       "      <td>90</td>\n",
       "      <td>Appropriate response means providing reassuran...</td>\n",
       "      <td>[The mental health professional affirms that c...</td>\n",
       "    </tr>\n",
       "    <tr>\n",
       "      <th>73</th>\n",
       "      <td>I’m facing severe depression and anxiety and I...</td>\n",
       "      <td>Working with a great therapist who can help yo...</td>\n",
       "      <td>[{'role': 'system', 'content': 'Read the folli...</td>\n",
       "      <td>5</td>\n",
       "      <td>90</td>\n",
       "      <td>Appropriate responses are those that provide v...</td>\n",
       "      <td>[The patient expressed feelings of severe depr...</td>\n",
       "    </tr>\n",
       "    <tr>\n",
       "      <th>2687</th>\n",
       "      <td>It happens especially at me and my sister, and...</td>\n",
       "      <td>You are very wise for a young person. You have...</td>\n",
       "      <td>[{'role': 'system', 'content': 'Read the folli...</td>\n",
       "      <td>4</td>\n",
       "      <td>85</td>\n",
       "      <td>Appropriate response in this context means pro...</td>\n",
       "      <td>[The mental health professional acknowledges t...</td>\n",
       "    </tr>\n",
       "    <tr>\n",
       "      <th>1606</th>\n",
       "      <td>I am currently suffering from erectile dysfunc...</td>\n",
       "      <td>Hi, First and foremost, I want to acknowledge ...</td>\n",
       "      <td>[{'role': 'system', 'content': 'Read the folli...</td>\n",
       "      <td>5</td>\n",
       "      <td>95</td>\n",
       "      <td>Appropriate responses acknowledge the patient'...</td>\n",
       "      <td>[The mental health professional starts by ackn...</td>\n",
       "    </tr>\n",
       "    <tr>\n",
       "      <th>266</th>\n",
       "      <td>I am not sure if I am depressed. I don't know ...</td>\n",
       "      <td>I am so sorry you are struggling!  I do think ...</td>\n",
       "      <td>[{'role': 'system', 'content': 'Read the folli...</td>\n",
       "      <td>5</td>\n",
       "      <td>90</td>\n",
       "      <td>Appropriate response involves empathy, validat...</td>\n",
       "      <td>[The mental health professional expresses empa...</td>\n",
       "    </tr>\n",
       "    <tr>\n",
       "      <th>1501</th>\n",
       "      <td>I've been bulimic for about 6 years now. I'm i...</td>\n",
       "      <td>Eating disorders usually result from a sense o...</td>\n",
       "      <td>[{'role': 'system', 'content': 'Read the folli...</td>\n",
       "      <td>2</td>\n",
       "      <td>70</td>\n",
       "      <td>Appropriateness refers to the relevance, empat...</td>\n",
       "      <td>[The patient expresses a deep concern about th...</td>\n",
       "    </tr>\n",
       "  </tbody>\n",
       "</table>\n",
       "</div>"
      ],
      "text/plain": [
       "                                                Comment  \\\n",
       "3296  My boyfriend is in Ireland for 11 days, and I ...   \n",
       "2011  I have so many issues to address. I have a his...   \n",
       "1683  After 40 years of being straight, how could I ...   \n",
       "1560  I feel like I took our relationship for grante...   \n",
       "1267  I crave attention, companionship, and sex. She...   \n",
       "2895  He said he would try and he never did. It's be...   \n",
       "2697  I always feel the need to impress people, whet...   \n",
       "1042  We're in an eight year relationship. My boyfri...   \n",
       "3312  I've gone to a couple therapy sessions so far ...   \n",
       "2788  He is an adolescent. He has peed his pant mult...   \n",
       "606   I'm being verbally abused on a daily basis by ...   \n",
       "1443  I am always arguing with my father. He gets st...   \n",
       "2576  As a child, my parents injured my brother, so ...   \n",
       "1078  I've pretty much been on my own since day one,...   \n",
       "1948  Is it normal for people to cry during therapy,...   \n",
       "73    I’m facing severe depression and anxiety and I...   \n",
       "2687  It happens especially at me and my sister, and...   \n",
       "1606  I am currently suffering from erectile dysfunc...   \n",
       "266   I am not sure if I am depressed. I don't know ...   \n",
       "1501  I've been bulimic for about 6 years now. I'm i...   \n",
       "\n",
       "                                               Response  \\\n",
       "3296  It sounds like you and your boyfriend are very...   \n",
       "2011  I think this is a very common question that pe...   \n",
       "1683  Sexuality is normally formed during adolescenc...   \n",
       "1560  A key factor in a relationship is trust.I'd st...   \n",
       "1267  Hi Hampton,Although I'd bet your wife also wan...   \n",
       "2895  If your husband is changing his mind about whe...   \n",
       "2697  It is normal to seek other’s attention and not...   \n",
       "1042  First, let me extend my compassion to both of ...   \n",
       "3312  Yes, it is completely normal to feel anxious a...   \n",
       "2788  Sounds as though your son is \"pissed off\" abou...   \n",
       "606   I am so sorry this is happening to you.  One t...   \n",
       "1443  Thanks for the question. Regardless of whether...   \n",
       "2576  Sorry to hear of having witnessed violence wit...   \n",
       "1078  One way to concentrate is that if your mind st...   \n",
       "1948  Yes, it's totally normal! Crying is a part of ...   \n",
       "73    Working with a great therapist who can help yo...   \n",
       "2687  You are very wise for a young person. You have...   \n",
       "1606  Hi, First and foremost, I want to acknowledge ...   \n",
       "266   I am so sorry you are struggling!  I do think ...   \n",
       "1501  Eating disorders usually result from a sense o...   \n",
       "\n",
       "                                                    msg  rating  confidence  \\\n",
       "3296  [{'role': 'system', 'content': 'Read the folli...       4          85   \n",
       "2011  [{'role': 'system', 'content': 'Read the folli...       5          95   \n",
       "1683  [{'role': 'system', 'content': 'Read the folli...       3          80   \n",
       "1560  [{'role': 'system', 'content': 'Read the folli...       4          85   \n",
       "1267  [{'role': 'system', 'content': 'Read the folli...       5          90   \n",
       "2895  [{'role': 'system', 'content': 'Read the folli...       4          85   \n",
       "2697  [{'role': 'system', 'content': 'Read the folli...       4          85   \n",
       "1042  [{'role': 'system', 'content': 'Read the folli...       5          90   \n",
       "3312  [{'role': 'system', 'content': 'Read the folli...       5          90   \n",
       "2788  [{'role': 'system', 'content': 'Read the folli...       4          85   \n",
       "606   [{'role': 'system', 'content': 'Read the folli...       4          90   \n",
       "1443  [{'role': 'system', 'content': 'Read the folli...       5          90   \n",
       "2576  [{'role': 'system', 'content': 'Read the folli...       4          85   \n",
       "1078  [{'role': 'system', 'content': 'Read the folli...       1          70   \n",
       "1948  [{'role': 'system', 'content': 'Read the folli...       5          90   \n",
       "73    [{'role': 'system', 'content': 'Read the folli...       5          90   \n",
       "2687  [{'role': 'system', 'content': 'Read the folli...       4          85   \n",
       "1606  [{'role': 'system', 'content': 'Read the folli...       5          95   \n",
       "266   [{'role': 'system', 'content': 'Read the folli...       5          90   \n",
       "1501  [{'role': 'system', 'content': 'Read the folli...       2          70   \n",
       "\n",
       "                                             definition  \\\n",
       "3296  Appropriate responses in a therapeutic context...   \n",
       "2011  Appropriate responses from mental health profe...   \n",
       "1683  I define appropriate as a response that is res...   \n",
       "1560  Appropriate refers to the relevance and helpfu...   \n",
       "1267  Appropriate responses from mental health profe...   \n",
       "2895  I define appropriate responses as those that p...   \n",
       "2697  An appropriate response in a therapeutic conte...   \n",
       "1042  Appropriate responses are those that show unde...   \n",
       "3312  Appropriateness in this context means respondi...   \n",
       "2788  Appropriate responses are those that demonstra...   \n",
       "606   Appropriate responses from mental health profe...   \n",
       "1443  Appropriate responses provide constructive adv...   \n",
       "2576  Appropriateness in this context refers to the ...   \n",
       "1078  The appropriateness of a mental health profess...   \n",
       "1948  Appropriate response means providing reassuran...   \n",
       "73    Appropriate responses are those that provide v...   \n",
       "2687  Appropriate response in this context means pro...   \n",
       "1606  Appropriate responses acknowledge the patient'...   \n",
       "266   Appropriate response involves empathy, validat...   \n",
       "1501  Appropriateness refers to the relevance, empat...   \n",
       "\n",
       "                                                    cot  \n",
       "3296  [The mental health professional acknowledges t...  \n",
       "2011  [The mental health professional validates the ...  \n",
       "1683  [The mental health professional provides an in...  \n",
       "1560  [The mental health professional acknowledges a...  \n",
       "1267  [The mental health professional starts by ackn...  \n",
       "2895  [The mental health professional acknowledges t...  \n",
       "2697  [The mental health professional starts by norm...  \n",
       "1042  [The mental health professional begins with co...  \n",
       "3312  [The mental health professional acknowledged t...  \n",
       "2788  [The mental health professional begins by empa...  \n",
       "606   [The mental health professional starts with an...  \n",
       "1443  [The mental health professional validates the ...  \n",
       "2576  [The mental health professional acknowledges t...  \n",
       "1078  [The patient expresses feelings of isolation a...  \n",
       "1948  [The mental health professional affirms that c...  \n",
       "73    [The patient expressed feelings of severe depr...  \n",
       "2687  [The mental health professional acknowledges t...  \n",
       "1606  [The mental health professional starts by ackn...  \n",
       "266   [The mental health professional expresses empa...  \n",
       "1501  [The patient expresses a deep concern about th...  "
      ]
     },
     "execution_count": 30,
     "metadata": {},
     "output_type": "execute_result"
    }
   ],
   "source": [
    "mental_health"
   ]
  },
  {
   "cell_type": "code",
   "execution_count": null,
   "metadata": {},
   "outputs": [
    {
     "data": {
      "text/plain": [
       "<Axes: xlabel='rating'>"
      ]
     },
     "execution_count": 31,
     "metadata": {},
     "output_type": "execute_result"
    },
    {
     "data": {
      "image/png": "[encoded data removed]",
      "text/plain": [
       "<Figure size 640x480 with 1 Axes>"
      ]
     },
     "metadata": {},
     "output_type": "display_data"
    }
   ],
   "source": [
    "mental_health[\"rating\"].value_counts().sort_index().plot(kind=\"bar\")"
   ]
  },
  {
   "cell_type": "code",
   "execution_count": null,
   "metadata": {},
   "outputs": [
    {
     "name": "stdout",
     "output_type": "stream",
     "text": [
      "Comment:  I've pretty much been on my own since day one, I'm a middle child of five, and I can't seem to put my trust in anyone. It took me four years to finally open up a little to my best friend. Every time I realize that I have feelings for someone, I freak out and never talk to them again. I really want some help.\n",
      "Response:  One way to concentrate is that if your mind starts to wonder then remind yourself to bring your attention back.Start with short time spans of expecting yourself to concentrate.  You'll more likely succeed with concentrating with small time spans than longer ones.Once you start seeing your success, this will motivate you to try increasing the length to expect yourself to concentrate.The task of self-reminding is the same, whether for long or short time periods.Also, before starting this exercise ask your medical doctor if the problem can be related to a physical health problem.If there is, then have the possibility ruled out that your difficulty concentrating comes from the mental ability to concentrate, and not some medical reason preventing this.Before someone can engage their psychological will there must be a clean medical body and mind with which to work.\n",
      "Rating:  1\n",
      "Definition:  The appropriateness of a mental health professional's response hinges on their ability to address the patient's specific concerns empathetically and effectively. A response is considered appropriate if it is relevant, shows understanding of the patient's feelings, and provides guidance or support directly tailored to the issues presented by the patient.\n",
      "Confidence:  70\n",
      "Cot:  ['The patient expresses feelings of isolation and difficulty in trusting others, which indicates a deeper emotional issue rather than just a concentration problem.', \"The mental health professional's response focuses solely on concentration techniques, which does not address the core issues of trust and relationship difficulties that the patient is dealing with.\", \"This lack of relevance to the patient's specific situation makes the response inappropriate.\", \"The professional should have acknowledged the patient's struggles with trust, offered support, and perhaps discussed ways to cope with feelings in relationships instead of diverging into concentration methods.\"]\n",
      "\n",
      "\n",
      "Comment:  I've been bulimic for about 6 years now. I'm in my early 20s. I am about to start back to school to become an RN, and I really need to get better once and for all.    I lose control of myself and become angry and anxious and just eat and purge. Over and over. Can someone please point me in the right direction for help?\n",
      "Response:  Eating disorders usually result from a sense of insecurity about who the person is, whether they are good enough compared with anyone else, and whether the way they person lives is effective.If you have a style you're already happy with to reflect on these sorts of topics, keep following your own logic with the aim to free yourself, which usually takes place gradually, from these sort of self-doubts.The other approach would be to find an unperson or an online discussion group where you'd be able to offer and receive the support from other people who live with a similar problem.Good luck in your studies!\n",
      "Rating:  2\n",
      "Definition:  Appropriateness refers to the relevance, empathy, and effectiveness of the mental health professional's response to the patient's concern about their bulimia. An appropriate response would show understanding of the patient's struggles, provide actionable advice, and promote a supportive environment.\n",
      "Confidence:  70\n",
      "Cot:  ['The patient expresses a deep concern about their eating disorder and their desire for help, indicating a need for practical guidance and emotional support.', \"The professional's response is somewhat relevant, as it touches on themes of insecurity and self-doubt that often accompany eating disorders.\", \"However, the response lacks direct acknowledgment of the urgency and severity of the patient's situation, as well as specific resources or professional help that they could seek out for their bulimia.\", \"Instead of offering concrete steps or referrals, the professional mentions 'following your own logic' and suggests finding online groups, which may not be sufficient for someone dealing with a serious eating disorder.\", \"Overall, while the response attempts to address the underlying issues, it falls short in providing direct, actionable guidance for the patient's immediate need for help.\"]\n",
      "\n",
      "\n"
     ]
    }
   ],
   "source": [
    "# what where the ones with lower ratings?\n",
    "low_ratings = mental_health[mental_health[\"rating\"] < 3]\n",
    "\n",
    "for row in low_ratings.iterrows():\n",
    "    print(\"Comment: \", row[1][\"Comment\"])\n",
    "    print(\"Response: \", row[1][\"Response\"])\n",
    "    print(\"Rating: \", row[1][\"rating\"])\n",
    "    print(\"Definition: \", row[1][\"definition\"])\n",
    "    print(\"Confidence: \", row[1][\"confidence\"])\n",
    "    print(\"Cot: \", row[1][\"cot\"])\n",
    "    print(\"\\n\")"
   ]
  },
  {
   "cell_type": "markdown",
   "metadata": {},
   "source": [
    "# Simple AI Agent with ReAct prompts"
   ]
  },
  {
   "cell_type": "markdown",
   "metadata": {},
   "source": [
    "[AI Agents](https://cloud.google.com/discover/what-are-ai-agents?hl=en) have been popular in 2024-25. \n",
    "\n",
    "Agents are specialized algorithms with a defined set of `tools` or functions to finish an specific task from a prompt. The brain of this agent is an LLM of your choice, however it's prefered that these agents have a big context window.\n",
    "\n",
    "A simple framework for an agent is the *ReAct* prompt, where the model first reasons and then acts. \n",
    "\n",
    "In the following example we will again use OpenAI's API and suppose that our agent has a `tool` that allows it to search the web. So the idea is that we will give it a task and the agent will then think of the next step, look for it on the web, extract that info and prepare a next step, until he has reached his answer.\n",
    "\n",
    "> This example has been taken from Kaggle + Google Intensive AI course in 2025 prompting [notebook](https://www.kaggle.com/code/markishere/day-1-prompting). For more details on how to tailor your prompts please review the document in Prompt Engineering pdf @ `media/Prompt Engineering_google.pdf`\n",
    "\n",
    "Please review the following prompt, and notice how it provides one-shot examples to improve the performance of the model."
   ]
  },
  {
   "cell_type": "code",
   "execution_count": 36,
   "metadata": {},
   "outputs": [],
   "source": [
    "model_instructions = \"\"\"\n",
    "Solve a question answering task with interleaving Thought, Action, Observation steps. Thought can reason about the current situation,\n",
    "Observation is understanding relevant information from an Action's output and Action can be one of three types:\n",
    " (1) <search>entity</search>, which searches the exact entity on Wikipedia and returns the first paragraph if it exists. If not, it\n",
    "     will return some similar entities to search and you can try to search the information from those topics.\n",
    " (2) <lookup>keyword</lookup>, which returns the next sentence containing keyword in the current context. This only does exact matches,\n",
    "     so keep your searches short.\n",
    " (3) <finish>answer</finish>, which returns the answer and finishes the task.\n",
    "\"\"\"\n",
    "\n",
    "example1 = \"\"\"Question\n",
    "Musician and satirist Allie Goertz wrote a song about the \"The Simpsons\" character Milhouse, who Matt Groening named after who?\n",
    "\n",
    "Thought\n",
    "The question simplifies to \"The Simpsons\" character Milhouse is named after who. I only need to search Milhouse and find who it is named after.\n",
    "\n",
    "Action\n",
    "<search>Milhouse</search>\n",
    "\"\"\"\n",
    "\n",
    "example2 = \"\"\"Question\n",
    "What is the elevation range for the area that the eastern sector of the Colorado orogeny extends into?\n",
    "\n",
    "Thought\n",
    "High Plains rise in elevation from around 1,800 to 7,000 ft, so the answer is 1,800 to 7,000 ft.\n",
    "\n",
    "Action\n",
    "<finish>1,800 to 7,000 ft</finish>\n",
    "\"\"\"\n",
    "\n",
    "example3 = \"\"\"Question\n",
    "Where does the US president live during his term?\n",
    "\n",
    "Thought\n",
    "Presidents of the US live in the White House during their term.\n",
    "\n",
    "Action\n",
    "<finish>the White House</finish>\n",
    "\"\"\""
   ]
  },
  {
   "cell_type": "markdown",
   "metadata": {},
   "source": [
    "For this we will need keep a *history* and feed that into the input of a OpenAI prompt."
   ]
  },
  {
   "cell_type": "code",
   "execution_count": null,
   "metadata": {},
   "outputs": [],
   "source": [
    "history = [\n",
    "    {\"role\": \"system\", \"content\": model_instructions + example1 + example2 + example3},\n",
    "    {\n",
    "        \"role\": \"user\",\n",
    "        \"content\": \"Question \\n Where does the youngest person to win the Economimcs 2024 Nobel Prize work at?\",\n",
    "    },\n",
    "]"
   ]
  },
  {
   "cell_type": "code",
   "execution_count": null,
   "metadata": {},
   "outputs": [
    {
     "name": "stdout",
     "output_type": "stream",
     "text": [
      "Thought\n",
      "The youngest person to win the Nobel Prize in Economics in 2024 is likely to be a notable economist. I need to find information about the 2024 Nobel laureate in Economics and their current affiliation.\n",
      "\n",
      "Action\n",
      "<search>2024 Nobel Prize in Economics</search>\n"
     ]
    }
   ],
   "source": [
    "response = openai_client.responses.create(\n",
    "    model=\"gpt-4.1-nano\",\n",
    "    input=history,\n",
    "    temperature=0.1,\n",
    ")\n",
    "print(response.output_text)"
   ]
  },
  {
   "cell_type": "markdown",
   "metadata": {},
   "source": [
    "Now let's do like the agent used the `tool` to look into the [Novel Prize Website](https://www.nobelprize.org/prizes/economic-sciences/2024/popular-information/) we can get\n",
    "\n",
    "> This year’s laureates have provided new insights into why there are such vast differences in prosperity between nations. One important explanation is persistent differences in societal institutions. By examining the various political and economic systems introduced by European colonisers, Daron Acemoglu, Simon Johnson and James A. Robinson have been able to demonstrate a relationship between institutions and prosperity. They have also developed theoretical tools that can explain why differences in institutions persist and how institutions can change.\n",
    "\n",
    "Which we can add to the history:"
   ]
  },
  {
   "cell_type": "code",
   "execution_count": null,
   "metadata": {},
   "outputs": [],
   "source": [
    "history += [{\"role\": \"assistant\", \"content\": response.output_text}]\n",
    "history += [\n",
    "    {\n",
    "        \"role\": \"user\",\n",
    "        \"content\": \"here is what I found on the web: \\n\\n\"\n",
    "        + \"This year’s laureates have provided new insights into why there are such vast differences in prosperity between nations. One important explanation is persistent differences in societal institutions. By examining the various political and economic systems introduced by European colonisers, Daron Acemoglu, Simon Johnson and James A. Robinson have been able to demonstrate a relationship between institutions and prosperity. They have also developed theoretical tools that can explain why differences in institutions persist and how institutions can change.\",\n",
    "    }\n",
    "]"
   ]
  },
  {
   "cell_type": "code",
   "execution_count": null,
   "metadata": {},
   "outputs": [
    {
     "name": "stdout",
     "output_type": "stream",
     "text": [
      "Thought\n",
      "The laureates mentioned are Daron Acemoglu, Simon Johnson, and James A. Robinson. Since the question asks about the youngest person among them, I need to determine their ages and current affiliations.\n",
      "\n",
      "Action\n",
      "<search>Daron Acemoglu</search>\n"
     ]
    }
   ],
   "source": [
    "# with the updated history ask it again\n",
    "response = openai_client.responses.create(\n",
    "    model=\"gpt-4.1-nano\",\n",
    "    input=history,\n",
    "    temperature=0.1,\n",
    ")\n",
    "print(response.output_text)"
   ]
  },
  {
   "cell_type": "markdown",
   "metadata": {},
   "source": [
    "From his [wikipedia](https://en.wikipedia.org/wiki/Daron_Acemoglu) we can see:\n",
    "> Daron Acemoglu was born in September 3, 1967 (age 57) in Istanbul, Turkey. Works history: London School of Economics (1989–1993) Massachusetts Institute of Technology (1993–present)|"
   ]
  },
  {
   "cell_type": "code",
   "execution_count": null,
   "metadata": {},
   "outputs": [],
   "source": [
    "# update history with the new response\n",
    "history += [{\"role\": \"assistant\", \"content\": response.output_text}]\n",
    "history += [\n",
    "    {\n",
    "        \"role\": \"user\",\n",
    "        \"content\": \"Daron Acemoglu was born in September 3, 1967 (age 57) in Istanbul, Turkey. Works history: London School of Economics (1989–1993) Massachusetts Institute of Technology (1993–present)\",\n",
    "    }\n",
    "]"
   ]
  },
  {
   "cell_type": "code",
   "execution_count": null,
   "metadata": {},
   "outputs": [
    {
     "name": "stdout",
     "output_type": "stream",
     "text": [
      "Thought\n",
      "Daron Acemoglu is currently 57 years old and works at the Massachusetts Institute of Technology. I need to check the ages and affiliations of Simon Johnson and James A. Robinson to determine who is the youngest.\n",
      "\n",
      "Action\n",
      "<search>Simon Johnson economist</search>\n"
     ]
    }
   ],
   "source": [
    "# with the updated history ask it again\n",
    "response = openai_client.responses.create(\n",
    "    model=\"gpt-4.1-nano\",\n",
    "    input=history,\n",
    "    temperature=0.1,\n",
    ")\n",
    "print(response.output_text)"
   ]
  },
  {
   "cell_type": "markdown",
   "metadata": {},
   "source": [
    "Now if we go to [Simon Johnson wiki page](https://en.wikipedia.org/wiki/Simon_Johnson_(economist))\n",
    "> Simon Johnson was born in January 16, 1963 (age 62) Sheffield, United Kingdom and his work history is the following: From 1989 to 1991, Johnson was a junior scholar at Harvard University, where he was a member of the Harvard Academy for International and Area Studies and a fellow of its Russian Research Center. From 1991 to 1997, he taught at the Fuqua School of Business at Duke University, where he was an assistant professor till 1995, and an associate professor till 1997; he also directed its Center for Manager Development in St Petersburg, Russia from 1993 to 1995. He joined the faculty of MIT in 1997, and was tenured in 2002. At MIT, he is a research affiliate at Blueprint Labs, co-directs MIT's Shaping the Future of Work Initiative, and heads its Global Economics and Management Group."
   ]
  },
  {
   "cell_type": "code",
   "execution_count": null,
   "metadata": {},
   "outputs": [],
   "source": [
    "# update history with the new response\n",
    "history += [{\"role\": \"assistant\", \"content\": response.output_text}]\n",
    "history += [\n",
    "    {\n",
    "        \"role\": \"user\",\n",
    "        \"content\": \"Simon Johnson was born in January 16, 1963 (age 62) Sheffield, United Kingdom and his work history is the following: From 1989 to 1991, Johnson was a junior scholar at Harvard University, where he was a member of the Harvard Academy for International and Area Studies and a fellow of its Russian Research Center. From 1991 to 1997, he taught at the Fuqua School of Business at Duke University, where he was an assistant professor till 1995, and an associate professor till 1997; he also directed its Center for Manager Development in St Petersburg, Russia from 1993 to 1995. He joined the faculty of MIT in 1997, and was tenured in 2002. At MIT, he is a research affiliate at Blueprint Labs, co-directs MIT's Shaping the Future of Work Initiative, and heads its Global Economics and Management Group.\",\n",
    "    }\n",
    "]"
   ]
  },
  {
   "cell_type": "code",
   "execution_count": null,
   "metadata": {},
   "outputs": [
    {
     "name": "stdout",
     "output_type": "stream",
     "text": [
      "Thought\n",
      "Simon Johnson is 62 years old and works at MIT. Now, I will check James A. Robinson's age and affiliation to compare.\n",
      "\n",
      "Action\n",
      "<search>James A. Robinson economist</search>\n"
     ]
    }
   ],
   "source": [
    "# with the updated history ask it again\n",
    "response = openai_client.responses.create(\n",
    "    model=\"gpt-4.1-nano\", input=history, temperature=0.1\n",
    ")\n",
    "print(response.output_text)"
   ]
  },
  {
   "cell_type": "markdown",
   "metadata": {},
   "source": [
    "[James A. Robinson wiki](https://en.wikipedia.org/wiki/James_A._Robinson)\n",
    "> James A. Robinson was born in 1960 (age 64–65) in Chelmsford, Essex, United Kingdom ans his work history is In 2004, Robinson was appointed Associate Professor of Government at Harvard University. He later held named chair positions at Harvard, first as the David Florence Professor of Government (2009–2014) and later as the Wilbur A. Cowett Professor of Government (2014–2015). On 1 July 2015, he was appointed as one of nine University Professors at the Harris School of Public Policy Studies of the University of Chicago. He also holds the title Reverend Dr. Richard L. Pearson Professor of Global Conflict Studies. On 9 May 2016, Professor Robinson was awarded an honorary doctorate by the National University of Mongolia during his first visit to the country."
   ]
  },
  {
   "cell_type": "code",
   "execution_count": null,
   "metadata": {},
   "outputs": [],
   "source": [
    "# update history with the new response\n",
    "history += [{\"role\": \"assistant\", \"content\": response.output_text}]\n",
    "history += [\n",
    "    {\n",
    "        \"role\": \"user\",\n",
    "        \"content\": \"James A. Robinson was born in 1960 (age 64–65) in Chelmsford, Essex, United Kingdom ans his work history is In 2004, Robinson was appointed Associate Professor of Government at Harvard University. He later held named chair positions at Harvard, first as the David Florence Professor of Government (2009–2014) and later as the Wilbur A. Cowett Professor of Government (2014–2015). On 1 July 2015, he was appointed as one of nine University Professors at the Harris School of Public Policy Studies of the University of Chicago. He also holds the title Reverend Dr. Richard L. Pearson Professor of Global Conflict Studies. On 9 May 2016, Professor Robinson was awarded an honorary doctorate by the National University of Mongolia during his first visit to the country.\",\n",
    "    }\n",
    "]"
   ]
  },
  {
   "cell_type": "code",
   "execution_count": null,
   "metadata": {},
   "outputs": [
    {
     "name": "stdout",
     "output_type": "stream",
     "text": [
      "Thought\n",
      "James A. Robinson is approximately 64–65 years old and works at the University of Chicago. Comparing ages: Daron Acemoglu is 57, Simon Johnson is 62, and James A. Robinson is around 64–65. Therefore, Daron Acemoglu is the youngest among them.\n",
      "\n",
      "Answer\n",
      "<finish>Daron Acemoglu is the youngest person to win the Economics 2024 Nobel Prize, and he works at the Massachusetts Institute of Technology (MIT).</finish>\n"
     ]
    }
   ],
   "source": [
    "# with the updated history ask it again\n",
    "response = openai_client.responses.create(\n",
    "    model=\"gpt-4.1-nano\", input=history, temperature=0.1\n",
    ")\n",
    "print(response.output_text)"
   ]
  },
  {
   "cell_type": "markdown",
   "metadata": {},
   "source": [
    "At this point you should have returned an answer of who is the youngest (Daron Acemoglu) and he works at MIT.\n",
    "\n",
    "In this example we did the web searching for the model, but you could also have created a `tool` or a function so that the agent can then use. For more info in AI agents please see the other pdf from the Generative AI Intesive course @ `media/ai_agents_google.pdf`"
   ]
  },
  {
   "cell_type": "markdown",
   "metadata": {},
   "source": [
    "# Extra: Google AI with Gemini"
   ]
  },
  {
   "cell_type": "code",
   "execution_count": 4,
   "metadata": {},
   "outputs": [],
   "source": [
    "# Gemini\n",
    "from google import genai\n",
    "from google.genai import types"
   ]
  },
  {
   "cell_type": "code",
   "execution_count": 5,
   "metadata": {},
   "outputs": [
    {
     "name": "stdout",
     "output_type": "stream",
     "text": [
      "GEMINI_API loaded\n"
     ]
    }
   ],
   "source": [
    "# now we want to load the API keys from the .env file\n",
    "load_dotenv(\".env\")\n",
    "\n",
    "# check that we have the needed keys\n",
    "for api_key in [\"GEMINI_API\"]:\n",
    "    if os.getenv(api_key) is not None:\n",
    "        print(api_key, \"loaded\")\n",
    "    else:\n",
    "        print(api_key, \"missing\")\n",
    "        print(\"Please create a .env file with the corresponding API key\")"
   ]
  },
  {
   "cell_type": "code",
   "execution_count": 6,
   "metadata": {},
   "outputs": [],
   "source": [
    "gemini_client = genai.Client(api_key=os.getenv(\"GEMINI_API\"));"
   ]
  },
  {
   "cell_type": "markdown",
   "metadata": {},
   "source": [
    "Google API has more limited options for `pydantic`"
   ]
  },
  {
   "cell_type": "code",
   "execution_count": 7,
   "metadata": {},
   "outputs": [],
   "source": [
    "class PoemGemini(BaseModel):\n",
    "    title: str\n",
    "    poem: str\n",
    "    sad: bool  # potentially define as int from 1-10"
   ]
  },
  {
   "cell_type": "code",
   "execution_count": 8,
   "metadata": {},
   "outputs": [],
   "source": [
    "system_instruction = \"\"\"Write me a poam about the topic of the following text. It should be a short poem, no more than 4 lines. The poem should be in the style of a haiku. The text is: \"\"\"\n",
    "\n",
    "# This is how you set the parameters for the generation\n",
    "generation_config = types.GenerateContentConfig(\n",
    "    temperature=0.7,\n",
    "    top_p=0.95,\n",
    "    top_k=5,\n",
    "    max_output_tokens=1024 * 10,\n",
    "    response_schema=PoemGemini,\n",
    "    response_mime_type=\"application/json\",  # this then returns a json object\n",
    "    system_instruction=system_instruction,\n",
    ")"
   ]
  },
  {
   "cell_type": "code",
   "execution_count": 9,
   "metadata": {},
   "outputs": [],
   "source": [
    "model_out = gemini_client.models.generate_content(\n",
    "    model=\"gemini-2.0-flash\",  # here always use this one since it's free\n",
    "    config=generation_config,\n",
    "    contents=\"crossfit\",\n",
    ")"
   ]
  },
  {
   "cell_type": "code",
   "execution_count": 15,
   "metadata": {},
   "outputs": [
    {
     "data": {
      "text/plain": [
       "'{\\n  \"title\": \"Crossfit Haiku\",\\n  \"poem\": \"Heavy weights arise,\\\\nMuscles burn, a primal scream,\\\\nBody redefined.\",\\n  \"sad\": false\\n}'"
      ]
     },
     "execution_count": 15,
     "metadata": {},
     "output_type": "execute_result"
    }
   ],
   "source": [
    "model_out.text"
   ]
  },
  {
   "cell_type": "markdown",
   "metadata": {},
   "source": [
    "Note how it returns a sort of json structure. So we can extract that json using the following functions"
   ]
  },
  {
   "cell_type": "code",
   "execution_count": 19,
   "metadata": {},
   "outputs": [
    {
     "data": {
      "text/plain": [
       "{'title': 'Crossfit Haiku',\n",
       " 'poem': 'Heavy weights arise,\\nMuscles burn, a primal scream,\\nBody redefined.',\n",
       " 'sad': False}"
      ]
     },
     "execution_count": 19,
     "metadata": {},
     "output_type": "execute_result"
    }
   ],
   "source": [
    "structured_out = json.loads(model_out.text)\n",
    "structured_out"
   ]
  }
 ],
 "metadata": {
  "kernelspec": {
   "display_name": ".venv",
   "language": "python",
   "name": "python3"
  },
  "language_info": {
   "codemirror_mode": {
    "name": "ipython",
    "version": 3
   },
   "file_extension": ".py",
   "mimetype": "text/x-python",
   "name": "python",
   "nbconvert_exporter": "python",
   "pygments_lexer": "ipython3",
   "version": "3.11.12"
  }
 },
 "nbformat": 4,
 "nbformat_minor": 2
}
